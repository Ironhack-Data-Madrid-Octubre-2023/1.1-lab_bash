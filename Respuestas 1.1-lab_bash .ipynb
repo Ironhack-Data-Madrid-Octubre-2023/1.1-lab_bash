{
 "cells": [
  {
   "cell_type": "markdown",
   "id": "18594f3f",
   "metadata": {},
   "source": [
    "### 1). Imprime en consola Hello World.\n",
    "\n",
    "(clase)  mbp@MBPs-MacBook-Pro  ~/Documents/IRONHACK/04.Classes/1.1-lab_bash   main  echo Hello World\n",
    "\n",
    "Hello World"
   ]
  },
  {
   "cell_type": "markdown",
   "id": "3df5c7a6",
   "metadata": {},
   "source": [
    "### 2). Crea un directorio nuevo llamado new_dir.\n",
    "\n",
    "(clase)  mbp@MBPs-MacBook-Pro  ~/Documents/IRONHACK/04.Classes/1.1-lab_bash   main  mkdir new_dir"
   ]
  },
  {
   "cell_type": "markdown",
   "id": "345fa117",
   "metadata": {},
   "source": [
    "### 3). Elimina ese directorio.\n",
    "\n",
    "(clase)  mbp@MBPs-MacBook-Pro  ~/Documents/IRONHACK/04.Classes/1.1-lab_bash   main  rm\n",
    "-r new_dir"
   ]
  },
  {
   "cell_type": "markdown",
   "id": "7beff081",
   "metadata": {},
   "source": [
    "### 4). Copia el archivo sed.txt dentro de la carpeta lorem a la carpeta lorem-copy. TIP: Puede ser necesario crear la carpeta lorem-copy primero.\n",
    "\n",
    "(clase)  mbp@MBPs-MacBook-Pro  ~/Documents/IRONHACK/04.Classes/1.1-lab_bash/lorem   main  mkdir lorem-copy\n",
    "\n",
    "(clase)  mbp@MBPs-MacBook-Pro  ~/Documents/IRONHACK/04.Classes/1.1-lab_bash/lorem   main  cp sed.txt /Users/mbp/Documents/IRONHACK/04.Classes/1.1-lab_bash/lorem/lorem-copy\n",
    "\n",
    "\n"
   ]
  },
  {
   "cell_type": "markdown",
   "id": "7c8e7692",
   "metadata": {},
   "source": [
    "### 5). Muestra el contenido del archivo sed.txt dentro de la carpeta lorem.\n",
    "\n",
    "(clase)  mbp@MBPs-MacBook-Pro  ~/Documents/IRONHACK/04.Classes/1.1-lab_bash/lorem-copy   main  cd ..\n",
    "\n",
    "(clase)  mbp@MBPs-MacBook-Pro  ~/Documents/IRONHACK/04.Classes/1.1-lab_bash   main ±  cd lorem\n",
    "\n",
    "(clase)  mbp@MBPs-MacBook-Pro  ~/Documents/IRONHACK/04.Classes/1.1-lab_bash/lorem   main ±  cat sed.txt\n",
    "Sed ut perspiciatis unde omnis iste natus error sit voluptatem accusantium doloremque laudantium,\n",
    "totam rem aperiam, eaque ipsa quae ab illo inventore veritatis et quasi architecto beatae vitae dicta sunt explicabo.\n",
    "Nemo enim ipsam voluptatem quia voluptas sit aspernatur aut odit aut fugit,\n",
    "sed quia consequuntur magni dolores eos qui ratione voluptatem sequi nesciunt.\n",
    "Neque porro quisquam est, qui dolorem ipsum quia dolor sit amet, consectetur, adipisci velit,\n",
    "sed quia non numquam eius modi tempora incidunt ut labore et dolore magnam aliquam quaerat voluptatem.\n",
    "Ut enim ad minima veniam, quis nostrum exercitationem ullam corporis suscipit laboriosam,\n",
    "nisi ut aliquid ex ea commodi consequatur? Quis autem vel eum iure reprehenderit qui in ea voluptate velit esse quam nihil molestiae consequatur,\n",
    "vel illum qui dolorem eum fugiat quo voluptas nulla pariatur?%\n",
    "\n",
    "\n"
   ]
  },
  {
   "cell_type": "markdown",
   "id": "268e7272",
   "metadata": {},
   "source": [
    "### 6). Muestra el contenido de los archivos at.txt y lorem.txt dentro de la carpeta lorem.\n",
    "\n",
    "(clase)  mbp@MBPs-MacBook-Pro  ~/Documents/IRONHACK/04.Classes/1.1-lab_bash/lorem   main ±  cat at.txt\n",
    "At vero eos et accusamus et iusto odio dignissimos ducimus qui blanditiis praesentium voluptatum\n",
    "deleniti atque corrupti quos dolores et quas molestias excepturi sint occaecati cupiditate non\n",
    "provident, similique sunt in culpa qui officia deserunt mollitia animi, id est laborum et dolorum fuga.\n",
    "Et harum quidem rerum facilis est et expedita distinctio.\n",
    "Nam libero tempore, cum soluta nobis est eligendi optio cumque nihil impedit quo minus id quod\n",
    "maxime placeat facere possimus, omnis voluptas assumenda est, omnis dolor repellendus.\n",
    "Temporibus autem quibusdam et aut officiis debitis aut rerum necessitatibus saepe eveniet\n",
    "ut et voluptates repudiandae sint et molestiae non recusandae.\n",
    "Itaque earum rerum hic tenetur a sapiente delectus, ut aut reiciendis voluptatibus maiores\n",
    "alias consequatur aut perferendis doloribus asperiores repellat%\n",
    "\n",
    "t lorem.txt\n",
    "Lorem ipsum dolor sit amet, consectetur adipiscing elit, sed do eiusmod tempor incididunt ut labore et dolore magna aliqua.\n",
    "Ut enim ad minim veniam, quis nostrud exercitation ullamco laboris nisi ut aliquip ex ea commodo consequat.\n",
    "Duis aute irure dolor in reprehenderit in voluptate velit esse cillum dolore eu fugiat nulla pariatur.\n",
    "Excepteur sint occaecat cupidatat non proident, sunt in culpa qui officia deserunt mollit anim id est laborum.%"
   ]
  },
  {
   "cell_type": "markdown",
   "id": "7142b2cb",
   "metadata": {},
   "source": [
    "### 7). Visualiza las primeras 3 líneas del archivo sed.txt dentro de la carpeta lorem-copy\n",
    "\n",
    "(clase)  mbp@MBPs-MacBook-Pro  ~/Documents/IRONHACK/04.Classes/1.1-lab_bash/lorem/lorem-copy   main ±  head -3 sed.txt\n",
    "Sed ut perspiciatis unde omnis iste natus error sit voluptatem accusantium doloremque laudantium,\n",
    "totam rem aperiam, eaque ipsa quae ab illo inventore veritatis et quasi architecto beatae vitae dicta sunt explicabo.\n",
    "Nemo enim ipsam voluptatem quia voluptas sit aspernatur aut odit aut fugit,"
   ]
  },
  {
   "cell_type": "markdown",
   "id": "f020a06a",
   "metadata": {},
   "source": [
    "### 8). Añade Homo homini lupus. al final de archivo sed.txt dentro de la carpeta lorem-copy.\n",
    "\n",
    "(clase)  mbp@MBPs-MacBook-Pro  ~/Documents/IRONHACK/04.Classes/1.1-lab_bash/lorem/lorem-copy   main ±  echo 'Homo homini lupus' >> sed.txt\n",
    "\n"
   ]
  },
  {
   "cell_type": "markdown",
   "id": "a166e5aa",
   "metadata": {},
   "source": [
    "### 9).Visualiza las últimas 3 líneas del archivo sed.txt dentro de la carpeta lorem-copy. Deberías ver ahora Homo homini lupus..\n",
    "\n",
    "(clase)  mbp@MBPs-MacBook-Pro  ~/Documents/IRONHACK/04.Classes/1.1-lab_bash/lorem/lorem-copy   main ±  tail -3 sed.txt\n",
    "Ut enim ad minima veniam, quis nostrum exercitationem ullam corporis suscipit laboriosam,\n",
    "nisi ut aliquid ex ea commodi consequatur? Quis autem vel eum iure reprehenderit qui in ea voluptate velit esse quam nihil molestiae consequatur,\n",
    "vel illum qui dolorem eum fugiat quo voluptas nulla pariatur?Homo homini lupus"
   ]
  },
  {
   "cell_type": "markdown",
   "id": "a3c46f1a",
   "metadata": {},
   "source": [
    "### 10). Encuentra al usuario activo en el sistema.\n",
    "\n",
    "(clase)  mbp@MBPs-MacBook-Pro  ~/Documents/IRONHACK/04.Classes/1.1-lab_bash/lorem/lorem-copy   main ±  whoami\n",
    "\n",
    "mbp\n"
   ]
  },
  {
   "cell_type": "markdown",
   "id": "29ab3b4e",
   "metadata": {},
   "source": [
    "### 11). Encuentra dónde estás en tu sistema de ficheros.\n",
    "\n",
    "(clase)  mbp@MBPs-MacBook-Pro  ~/Documents/IRONHACK/04.Classes/1.1-lab_bash/lorem/lorem-copy   main ±  pwd\n",
    "\n",
    "/Users/mbp/Documents/IRONHACK/04.Classes/1.1-lab_bash/lorem-copy"
   ]
  },
  {
   "cell_type": "markdown",
   "id": "cbace05b",
   "metadata": {},
   "source": [
    "### 12). Lista los archivos que terminan por .txt en la carpeta lorem.\n",
    "\n",
    "(clase)  mbp@MBPs-MacBook-Pro  ~/Documents/IRONHACK/04.Classes/1.1-lab_bash/lorem/lorem-copy   main ±  cd ..\n",
    "\n",
    "(clase)  mbp@MBPs-MacBook-Pro  ~/Documents/IRONHACK/04.Classes/1.1-lab_bash/lorem   main ±  ls\n",
    " -txt\n",
    "sed.txt   lorem.txt at.txt"
   ]
  },
  {
   "cell_type": "markdown",
   "id": "90513a2e",
   "metadata": {},
   "source": [
    "### 13). Cuenta el número de líneas que tiene el archivo sed.txt dentro de la carpeta lorem.\n",
    "\n",
    "(clase)  ✘ mbp@MBPs-MacBook-Pro  ~/Documents/IRONHACK/04.Classes/1.1-lab_bash/lorem   main ± \n",
    "wc -l sed.txt\n",
    "       8 sed.txt"
   ]
  },
  {
   "cell_type": "markdown",
   "id": "67e7ba88",
   "metadata": {},
   "source": [
    "### 14). Cuenta el número de archivos que empiezan por lorem que están en este directorio y en directorios internos.\n",
    "\n",
    "(clase)  mbp@MBPs-MacBook-Pro  ~/Documents/IRONHACK/04.Classes/1.1-lab_bash   main ±  ls 'lorem' | wc -l\n",
    "      \n",
    "      3\n",
    "\n"
   ]
  },
  {
   "cell_type": "markdown",
   "id": "476f357c",
   "metadata": {},
   "source": [
    "### 15). Cuenta el número de apariciones del string et en at.txt dentro de la carpeta lorem.\n",
    "\n",
    "(clase)  mbp@MBPs-MacBook-Pro  ~/Documents/IRONHACK/04.Classes/1.1-lab_bash/lorem   main ±  grep -o et at.txt | wc -l\n",
    "      \n",
    "      10\n"
   ]
  },
  {
   "cell_type": "markdown",
   "id": "d4a898e2",
   "metadata": {},
   "source": [
    "### 16). Ficheros Bash\n",
    "\n",
    "(clase)  mbp@MBPs-MacBook-Pro  ~/Documents/IRONHACK/04.Classes/1.1-lab_bash   main  touch list_files.sh\n",
    "\n",
    "(clase)  mbp@MBPs-MacBook-Pro  ~/Documents/IRONHACK/04.Classes/1.1-lab_bash   main  ls\n",
    "\n",
    "README.md                  list_files.sh\n",
    "\n",
    "(clase)  mbp@MBPs-MacBook-Pro  ~/Documents/IRONHACK/04.Classes/1.1-lab_bash   main  echo ls >> list_files.sh\n",
    "\n",
    "(clase)  mbp@MBPs-MacBook-Pro  ~/Documents/IRONHACK/04.Classes/1.1-lab_bash   main  bash list_files.sh\n",
    "\n",
    "README.md\t\t\tlist_files.sh\n",
    "Respuestas_1.1Bash_LAB.txt\tlorem\n"
   ]
  },
  {
   "cell_type": "code",
   "execution_count": null,
   "id": "e7dd40d6",
   "metadata": {},
   "outputs": [],
   "source": []
  }
 ],
 "metadata": {
  "kernelspec": {
   "display_name": "clase",
   "language": "python",
   "name": "clase"
  },
  "language_info": {
   "codemirror_mode": {
    "name": "ipython",
    "version": 3
   },
   "file_extension": ".py",
   "mimetype": "text/x-python",
   "name": "python",
   "nbconvert_exporter": "python",
   "pygments_lexer": "ipython3",
   "version": "3.10.13"
  }
 },
 "nbformat": 4,
 "nbformat_minor": 5
}
