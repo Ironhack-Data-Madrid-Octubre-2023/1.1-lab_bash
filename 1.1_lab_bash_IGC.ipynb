{
 "cells": [
  {
   "cell_type": "markdown",
   "id": "5697f252",
   "metadata": {},
   "source": [
    "## Ejercicios\n",
    "\n",
    "Imprime en consola `Hello World`.\n",
    "- echo \"Hello World\"\n",
    "\n",
    "Crea un directorio nuevo llamado `new_dir`.\n",
    "- mkdir new_list\n",
    "\n",
    "Elimina ese directorio.\n",
    "- rm -r new_dir\n",
    "\n",
    "Copia el archivo `sed.txt` dentro de la carpeta lorem a la carpeta lorem-copy. TIP: Puede ser necesario crear la carpeta lorem-copy primero. \n",
    "- mkdir lorem-copy\n",
    "- cd lorem-copy\n",
    "- cp -a sed.txt C:/Users/ingle/_deberes_repo/1.1-lab_bash/lorem-copy\n",
    "\n",
    "Muestra el contenido del archivo `sed.txt` dentro de la carpeta lorem. \n",
    "- cd ..\n",
    "- cd lorem\n",
    "- cat sed.txt\n",
    "\n",
    "Muestra el contenido de los archivos `at.txt` y `lorem.txt` dentro de la carpeta lorem. \n",
    "- cat at.txt\n",
    "- cat lorem.txt\n",
    "\n",
    "Visualiza las primeras 3 líneas del archivo `sed.txt` dentro de la carpeta lorem-copy \n",
    "- cd ..\n",
    "- cd lorem-copy\n",
    "- head sed.txt\n",
    "\n",
    "Añade `Homo homini lupus.` al final de archivo `sed.txt` dentro de la carpeta lorem-copy. \n",
    "- nano sed.txt\n",
    "- Después, añado las palabras al final y para salir del editor en Unix Ctrl + X\n",
    "\n",
    "Visualiza las últimas 3 líneas del archivo `sed.txt` dentro de la carpeta lorem-copy. Deberías ver ahora `Homo homini lupus.`. \n",
    "- tail sed.txt\n",
    "\n",
    "Encuentra al usuario activo en el sistema.\n",
    "- whoami\n",
    "\n",
    "Encuentra dónde estás en tu sistema de ficheros.\n",
    "- pwd\n",
    "\n",
    "Lista los archivos que terminan por `.txt` en la carpeta lorem.\n",
    "- cd ..\n",
    "- cd lorem\n",
    "- ls *txt\n",
    "\n",
    "Cuenta el número de líneas que tiene el archivo `sed.txt` dentro de la carpeta lorem.\n",
    "- wc -l sed.txt\n",
    "\n",
    "Cuenta el número de **archivos** que empiezan por `lorem` que están en este directorio y en directorios internos.\n",
    "- find . -type f -name \"lorem*\" | wc -l\n",
    "\n",
    "Cuenta el número de apariciones del string `et` en `at.txt` dentro de la carpeta lorem. \n",
    "- grep -o -i \"et\" at.txt | wc -l\n",
    "- En estas líneas se busca \"et\" de manera case-insensitive"
   ]
  },
  {
   "cell_type": "code",
   "execution_count": null,
   "id": "a25ac4a1",
   "metadata": {},
   "outputs": [],
   "source": []
  }
 ],
 "metadata": {
  "kernelspec": {
   "display_name": "Python 3 (ipykernel)",
   "language": "python",
   "name": "python3"
  },
  "language_info": {
   "codemirror_mode": {
    "name": "ipython",
    "version": 3
   },
   "file_extension": ".py",
   "mimetype": "text/x-python",
   "name": "python",
   "nbconvert_exporter": "python",
   "pygments_lexer": "ipython3",
   "version": "3.11.4"
  }
 },
 "nbformat": 4,
 "nbformat_minor": 5
}
