{
 "cells": [
  {
   "cell_type": "markdown",
   "id": "1efbb6b7",
   "metadata": {},
   "source": [
    "Imprime en consola `Hello World`."
   ]
  },
  {
   "cell_type": "markdown",
   "id": "62c73a3c",
   "metadata": {},
   "source": [
    "echo \"Hello World\""
   ]
  },
  {
   "cell_type": "code",
   "execution_count": null,
   "id": "b80c9ddf",
   "metadata": {},
   "outputs": [],
   "source": []
  },
  {
   "cell_type": "markdown",
   "id": "02fd3471",
   "metadata": {},
   "source": [
    "Crea un directorio nuevo llamado `new_dir`."
   ]
  },
  {
   "cell_type": "markdown",
   "id": "a6151f64",
   "metadata": {},
   "source": [
    "mkdir new_dir"
   ]
  },
  {
   "cell_type": "code",
   "execution_count": null,
   "id": "06cbefcb",
   "metadata": {},
   "outputs": [],
   "source": []
  },
  {
   "cell_type": "markdown",
   "id": "72525a2f",
   "metadata": {},
   "source": [
    "Elimina ese directorio"
   ]
  },
  {
   "cell_type": "markdown",
   "id": "3e5f5932",
   "metadata": {},
   "source": [
    "rm -r new_dir"
   ]
  },
  {
   "cell_type": "code",
   "execution_count": null,
   "id": "94352c1a",
   "metadata": {},
   "outputs": [],
   "source": []
  },
  {
   "cell_type": "markdown",
   "id": "8ba4d616",
   "metadata": {},
   "source": [
    "Copia el archivo `sed.txt` dentro de la carpeta lorem a la carpeta lorem-copy. TIP: Puede ser necesario crear la carpeta lorem-copy primero"
   ]
  },
  {
   "cell_type": "markdown",
   "id": "268fae3d",
   "metadata": {},
   "source": [
    "(clase) PS C:\\Users\\ferna\\Desktop\\IRONHACK\\1.1-lab_bash\\lorem> cp .\\sed.txt C:\\Users\\ferna\\Desktop\\IRONHACK\\1.1-lab_bash\\lorem-copy"
   ]
  },
  {
   "cell_type": "code",
   "execution_count": null,
   "id": "5f170608",
   "metadata": {},
   "outputs": [],
   "source": []
  },
  {
   "cell_type": "markdown",
   "id": "74466825",
   "metadata": {},
   "source": [
    "Muestra el contenido del archivo `sed.txt` dentro de la carpeta lorem."
   ]
  },
  {
   "cell_type": "markdown",
   "id": "90dc1a64",
   "metadata": {},
   "source": [
    "cat sed.txt"
   ]
  },
  {
   "cell_type": "code",
   "execution_count": null,
   "id": "c94540dc",
   "metadata": {},
   "outputs": [],
   "source": []
  },
  {
   "cell_type": "markdown",
   "id": "466d30d4",
   "metadata": {},
   "source": [
    "Muestra el contenido de los archivos `at.txt` y `lorem.txt` dentro de la carpeta lorem"
   ]
  },
  {
   "cell_type": "markdown",
   "id": "e8a6e194",
   "metadata": {},
   "source": [
    "cat at.txt"
   ]
  },
  {
   "cell_type": "markdown",
   "id": "ed7fc68b",
   "metadata": {},
   "source": [
    "cat lorem.txt"
   ]
  },
  {
   "cell_type": "code",
   "execution_count": null,
   "id": "cb2b0906",
   "metadata": {},
   "outputs": [],
   "source": []
  },
  {
   "cell_type": "markdown",
   "id": "1c47c189",
   "metadata": {},
   "source": [
    "Visualiza las primeras 3 líneas del archivo `sed.txt` dentro de la carpeta lorem-copy "
   ]
  },
  {
   "cell_type": "markdown",
   "id": "8bcc27f8",
   "metadata": {},
   "source": [
    "C:\\Users\\ferna\\Desktop\\IRONHACK\\1.1-lab_bash\\lorem-copy> get-content -first 3 sed.txt"
   ]
  },
  {
   "cell_type": "code",
   "execution_count": null,
   "id": "cc6830f0",
   "metadata": {},
   "outputs": [],
   "source": []
  },
  {
   "cell_type": "markdown",
   "id": "5da05504",
   "metadata": {},
   "source": [
    "Añade `Homo homini lupus.` al final de archivo `sed.txt` dentro de la carpeta lorem-copy. "
   ]
  },
  {
   "cell_type": "markdown",
   "id": "ac78e100",
   "metadata": {},
   "source": [
    "echo homo homini lupus >> sed.txt"
   ]
  },
  {
   "cell_type": "code",
   "execution_count": null,
   "id": "6640202e",
   "metadata": {},
   "outputs": [],
   "source": []
  },
  {
   "cell_type": "markdown",
   "id": "4898fd14",
   "metadata": {},
   "source": [
    "Visualiza las últimas 3 líneas del archivo `sed.txt` dentro de la carpeta lorem-copy. Deberías ver ahora `Homo homini lupus.`."
   ]
  },
  {
   "cell_type": "markdown",
   "id": "ebc12354",
   "metadata": {},
   "source": [
    "get-content -tail 3 sed.txt"
   ]
  },
  {
   "cell_type": "code",
   "execution_count": null,
   "id": "78d76aea",
   "metadata": {},
   "outputs": [],
   "source": []
  },
  {
   "cell_type": "markdown",
   "id": "2a47ee20",
   "metadata": {},
   "source": [
    "Encuentra al usuario activo en el sistema."
   ]
  },
  {
   "cell_type": "markdown",
   "id": "5918f3d6",
   "metadata": {},
   "source": [
    "whoami"
   ]
  },
  {
   "cell_type": "code",
   "execution_count": null,
   "id": "8f036318",
   "metadata": {},
   "outputs": [],
   "source": []
  },
  {
   "cell_type": "markdown",
   "id": "a445faf4",
   "metadata": {},
   "source": [
    "Encuentra dónde estás en tu sistema de ficheros"
   ]
  },
  {
   "cell_type": "markdown",
   "id": "f18e882e",
   "metadata": {},
   "source": [
    "ls"
   ]
  },
  {
   "cell_type": "code",
   "execution_count": null,
   "id": "83d121ac",
   "metadata": {},
   "outputs": [],
   "source": []
  },
  {
   "cell_type": "markdown",
   "id": "813eec24",
   "metadata": {},
   "source": [
    "Lista los archivos que terminan por `.txt` en la carpeta lorem"
   ]
  },
  {
   "cell_type": "markdown",
   "id": "50c92747",
   "metadata": {},
   "source": [
    "get-childitem -filter *.txt"
   ]
  },
  {
   "cell_type": "code",
   "execution_count": null,
   "id": "437460ab",
   "metadata": {},
   "outputs": [],
   "source": []
  },
  {
   "cell_type": "markdown",
   "id": "bca1536e",
   "metadata": {},
   "source": [
    "Cuenta el número de líneas que tiene el archivo `sed.txt` dentro de la carpeta lorem"
   ]
  },
  {
   "cell_type": "markdown",
   "id": "18f28e57",
   "metadata": {},
   "source": [
    "1.1-lab_bash\\lorem> Get-content 'sed.txt' | Measure-Object -Line"
   ]
  },
  {
   "cell_type": "code",
   "execution_count": null,
   "id": "5d87d737",
   "metadata": {},
   "outputs": [],
   "source": []
  },
  {
   "cell_type": "markdown",
   "id": "2aa6cc38",
   "metadata": {},
   "source": [
    "Cuenta el número de **archivos** que empiezan por `lorem` que están en este directorio y en directorios internos."
   ]
  },
  {
   "cell_type": "markdown",
   "id": "0a9fd6bf",
   "metadata": {},
   "source": [
    "Get-ChildItem -Path . -File -Recurse -Filter 'lorem*'"
   ]
  },
  {
   "cell_type": "code",
   "execution_count": null,
   "id": "d697da7c",
   "metadata": {},
   "outputs": [],
   "source": []
  },
  {
   "cell_type": "markdown",
   "id": "37a44aee",
   "metadata": {},
   "source": [
    "Cuenta el número de apariciones del string `et` en `at.txt` dentro de la carpeta lorem."
   ]
  },
  {
   "cell_type": "markdown",
   "id": "1558df38",
   "metadata": {},
   "source": [
    "(Get-Content -Path \"at.txt\" | Select-String -Pattern \"et\" -AllMatches).Matches.Count"
   ]
  },
  {
   "cell_type": "code",
   "execution_count": null,
   "id": "0669f959",
   "metadata": {},
   "outputs": [],
   "source": []
  },
  {
   "cell_type": "code",
   "execution_count": null,
   "id": "e6c31c34",
   "metadata": {},
   "outputs": [],
   "source": []
  }
 ],
 "metadata": {
  "kernelspec": {
   "display_name": "clase",
   "language": "python",
   "name": "clase"
  },
  "language_info": {
   "codemirror_mode": {
    "name": "ipython",
    "version": 3
   },
   "file_extension": ".py",
   "mimetype": "text/x-python",
   "name": "python",
   "nbconvert_exporter": "python",
   "pygments_lexer": "ipython3",
   "version": "3.10.13"
  }
 },
 "nbformat": 4,
 "nbformat_minor": 5
}
