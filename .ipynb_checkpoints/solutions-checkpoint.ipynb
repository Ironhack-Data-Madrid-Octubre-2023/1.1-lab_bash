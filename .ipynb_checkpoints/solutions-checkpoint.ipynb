{
 "cells": [
  {
   "cell_type": "markdown",
   "id": "57895a6b",
   "metadata": {},
   "source": [
    "# Imprime en consola Hello World.\n"
   ]
  },
  {
   "cell_type": "markdown",
   "id": "56d29816",
   "metadata": {},
   "source": [
    "echo Hello world\n"
   ]
  },
  {
   "cell_type": "markdown",
   "id": "315648d4",
   "metadata": {},
   "source": [
    "# Crea un directorio nuevo llamado new_dir"
   ]
  },
  {
   "cell_type": "markdown",
   "id": "ac6a0b1a",
   "metadata": {},
   "source": [
    "mkdir new_dir"
   ]
  },
  {
   "cell_type": "markdown",
   "id": "c52c229d",
   "metadata": {},
   "source": [
    "# Elimina ese directorio."
   ]
  },
  {
   "cell_type": "markdown",
   "id": "f5383c6d",
   "metadata": {},
   "source": [
    "rm -r new_dir"
   ]
  },
  {
   "cell_type": "markdown",
   "id": "c38ddb4a",
   "metadata": {},
   "source": [
    "# Copia el archivo sed.txt dentro de la carpeta lorem a la carpeta lorem-copy. TIP: Puede ser necesario crear la carpeta lorem-copy primero."
   ]
  },
  {
   "cell_type": "markdown",
   "id": "91a2bd7d",
   "metadata": {},
   "source": [
    "mkdir lorem-copy \n",
    "\n",
    "cd lorem\n",
    "\n",
    "cp sed.txt \\Users\\daarr\\desktop\\ironhack\\1.1-lab_bash\\lorem-copy"
   ]
  },
  {
   "cell_type": "markdown",
   "id": "fea28c99",
   "metadata": {},
   "source": [
    "# Muestra el contenido del archivo sed.txt dentro de la carpeta lorem."
   ]
  },
  {
   "cell_type": "markdown",
   "id": "f73402e7",
   "metadata": {},
   "source": [
    "cat sed.txt"
   ]
  },
  {
   "cell_type": "markdown",
   "id": "99f7808b",
   "metadata": {},
   "source": [
    "# Muestra el contenido de los archivos at.txt y lorem.txt dentro de la carpeta lorem"
   ]
  },
  {
   "cell_type": "markdown",
   "id": "d2761b4b",
   "metadata": {},
   "source": [
    "cat at.txt\n",
    "\n",
    "cat lorem.txt"
   ]
  },
  {
   "cell_type": "markdown",
   "id": "6ead249f",
   "metadata": {},
   "source": [
    "# Visualiza las primeras 3 líneas del archivo sed.txt dentro de la carpeta lorem-copy"
   ]
  },
  {
   "cell_type": "markdown",
   "id": "09b3310a",
   "metadata": {},
   "source": [
    "cd ..\n",
    "\n",
    "cd lorem-copy\n",
    "\n",
    "gc sed.txt | select -first 3"
   ]
  },
  {
   "cell_type": "markdown",
   "id": "c84e516b",
   "metadata": {},
   "source": [
    "# Añade Homo homini lupus. al final de archivo sed.txt dentro de la carpeta lorem-copy.\n",
    "\n"
   ]
  },
  {
   "cell_type": "markdown",
   "id": "04d69b28",
   "metadata": {},
   "source": [
    "echo \"Homo homini lupus.\" >> sed.txt"
   ]
  },
  {
   "cell_type": "markdown",
   "id": "015292aa",
   "metadata": {},
   "source": [
    "# Visualiza las últimas 3 líneas del archivo sed.txt dentro de la carpeta lorem-copy. Deberías ver ahora Homo homini lupus."
   ]
  },
  {
   "cell_type": "markdown",
   "id": "a0a5a552",
   "metadata": {},
   "source": [
    "gc -Tail 3 sed.txt"
   ]
  },
  {
   "cell_type": "markdown",
   "id": "1cfcff92",
   "metadata": {},
   "source": [
    "# Encuentra al usuario activo en el sistema."
   ]
  },
  {
   "cell_type": "markdown",
   "id": "eb33b325",
   "metadata": {},
   "source": [
    "whoami"
   ]
  },
  {
   "cell_type": "markdown",
   "id": "10901786",
   "metadata": {},
   "source": [
    "# Encuentra dónde estás en tu sistema de ficheros."
   ]
  },
  {
   "cell_type": "markdown",
   "id": "85591b02",
   "metadata": {},
   "source": [
    "pwd"
   ]
  },
  {
   "cell_type": "markdown",
   "id": "2d804725",
   "metadata": {},
   "source": [
    "# Lista los archivos que terminan por .txt en la carpeta lorem."
   ]
  },
  {
   "cell_type": "markdown",
   "id": "91ec717c",
   "metadata": {},
   "source": [
    "cd ..\n",
    "\n",
    "cd lorem\n",
    "\n",
    "ls *txt"
   ]
  },
  {
   "cell_type": "markdown",
   "id": "ef085cf1",
   "metadata": {},
   "source": [
    "# Cuenta el número de líneas que tiene el archivo sed.txt dentro de la carpeta lorem."
   ]
  },
  {
   "cell_type": "markdown",
   "id": "d6f72e4e",
   "metadata": {},
   "source": [
    "wc -l sed.txt"
   ]
  },
  {
   "cell_type": "markdown",
   "id": "1795f6a8",
   "metadata": {},
   "source": [
    "# Cuenta el número de archivos que empiezan por lorem que están en este directorio y en directorios internos."
   ]
  },
  {
   "cell_type": "markdown",
   "id": "479296ea",
   "metadata": {},
   "source": [
    "find -type f -name \"lorem*\" | wc -l\n",
    "\n"
   ]
  },
  {
   "cell_type": "markdown",
   "id": "ef9cd18e",
   "metadata": {},
   "source": [
    "# Cuenta el número de apariciones del string et en at.txt dentro de la carpeta lorem"
   ]
  },
  {
   "cell_type": "markdown",
   "id": "d7166d3f",
   "metadata": {},
   "source": [
    "grep -o et at.txt | wc -l    (CASE SENSITIVE)\n",
    "\n",
    "grep -o -i et at.txt | wc -l  (CASE INSENSITIVE)\n",
    "\n"
   ]
  },
  {
   "cell_type": "code",
   "execution_count": null,
   "id": "bffb47e5",
   "metadata": {},
   "outputs": [],
   "source": []
  }
 ],
 "metadata": {
  "kernelspec": {
   "display_name": "Python 3 (ipykernel)",
   "language": "python",
   "name": "python3"
  },
  "language_info": {
   "codemirror_mode": {
    "name": "ipython",
    "version": 3
   },
   "file_extension": ".py",
   "mimetype": "text/x-python",
   "name": "python",
   "nbconvert_exporter": "python",
   "pygments_lexer": "ipython3",
   "version": "3.11.4"
  }
 },
 "nbformat": 4,
 "nbformat_minor": 5
}
