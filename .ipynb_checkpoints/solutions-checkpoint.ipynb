{
 "cells": [
  {
   "cell_type": "code",
   "execution_count": null,
   "id": "9821b89b",
   "metadata": {},
   "outputs": [],
   "source": [
    "1) Imprime en consola Hello World"
   ]
  },
  {
   "cell_type": "code",
   "execution_count": null,
   "id": "f0741cc4",
   "metadata": {},
   "outputs": [],
   "source": [
    "echo 'Hello World'"
   ]
  },
  {
   "cell_type": "code",
   "execution_count": null,
   "id": "3ad17dfc",
   "metadata": {},
   "outputs": [],
   "source": [
    "2) Crea un directorio nuevo llamado new_dir"
   ]
  },
  {
   "cell_type": "markdown",
   "id": "001880ef",
   "metadata": {},
   "source": [
    "mkdir new_dir "
   ]
  },
  {
   "cell_type": "code",
   "execution_count": null,
   "id": "8d728fa9",
   "metadata": {},
   "outputs": [],
   "source": [
    "3) Elimina ese directorio"
   ]
  },
  {
   "cell_type": "code",
   "execution_count": null,
   "id": "a16a49b9",
   "metadata": {},
   "outputs": [],
   "source": [
    "rm -r new_dir"
   ]
  },
  {
   "cell_type": "code",
   "execution_count": null,
   "id": "b7f3ee6e",
   "metadata": {},
   "outputs": [],
   "source": [
    "4) Copia el archivo sed.txt dentro de la carpeta lorem a la carpeta lorem-copy. TIP: Puede ser necesario crear la carpeta lorem-copy primero."
   ]
  },
  {
   "cell_type": "code",
   "execution_count": null,
   "id": "13bcb640",
   "metadata": {},
   "outputs": [],
   "source": [
    "#creo la nueva carpeta\n",
    "mkdir lorem-copy \n",
    "\n",
    "#entro en la carpeta lorem usando cd \n",
    "\n",
    "#copio el archivo\n",
    "cp sed.txt /Users/criscarneiro/desktop/ironhack/1.1-lab_bash/lorem-copy"
   ]
  },
  {
   "cell_type": "code",
   "execution_count": null,
   "id": "79a36c80",
   "metadata": {},
   "outputs": [],
   "source": [
    "5) Muestra el contenido del archivo sed.txt dentro de la carpeta lorem"
   ]
  },
  {
   "cell_type": "code",
   "execution_count": null,
   "id": "252a741d",
   "metadata": {},
   "outputs": [],
   "source": [
    "#entro a la carpeta lorem usando cd\n",
    "\n",
    "#uso cat \n",
    "cat sed.txt "
   ]
  },
  {
   "cell_type": "markdown",
   "id": "f6dcfac0",
   "metadata": {},
   "source": [
    "6) Muestra el contenido de los archivos at.txt y lorem.txt dentro de la carpeta lorem"
   ]
  },
  {
   "cell_type": "code",
   "execution_count": null,
   "id": "136ab442",
   "metadata": {},
   "outputs": [],
   "source": [
    "#entro a la carpeta lorem usando cd \n",
    "#para verlos de una vez \n",
    "cat at.txt lorem.txt"
   ]
  },
  {
   "cell_type": "code",
   "execution_count": null,
   "id": "01e4340d",
   "metadata": {},
   "outputs": [],
   "source": [
    "7) Visualiza las primeras 3 líneas del archivo sed.txt dentro de la carpeta lorem-copy"
   ]
  },
  {
   "cell_type": "code",
   "execution_count": null,
   "id": "c322d935",
   "metadata": {},
   "outputs": [],
   "source": [
    "#entro a la carpeta lorem-copy usando cd \n",
    "#uso el comando\n",
    "head -3 sed.txt"
   ]
  },
  {
   "cell_type": "code",
   "execution_count": null,
   "id": "39672351",
   "metadata": {},
   "outputs": [],
   "source": [
    "8) Añade Homo homini lupus. al final de archivo sed.txt dentro de la carpeta lorem-copy."
   ]
  },
  {
   "cell_type": "code",
   "execution_count": null,
   "id": "c376cbb2",
   "metadata": {},
   "outputs": [],
   "source": [
    "#entro a la carpeta lorem-copy usando cd \n",
    "#uso el codigo \n",
    "echo ' Homo homini lupus.' >> sed.txt"
   ]
  },
  {
   "cell_type": "code",
   "execution_count": null,
   "id": "f2e1b7c0",
   "metadata": {},
   "outputs": [],
   "source": [
    "9) Visualiza las últimas 3 líneas del archivo sed.txt dentro de la carpeta lorem-copy. Deberías ver ahora Homo homini lupus."
   ]
  },
  {
   "cell_type": "code",
   "execution_count": null,
   "id": "fe69c9c6",
   "metadata": {},
   "outputs": [],
   "source": [
    "#entro a la carpeta lorem-copy usando cd \n",
    "#uso el codigo \n",
    "tail -3 sed.txt"
   ]
  },
  {
   "cell_type": "markdown",
   "id": "74392fe9",
   "metadata": {},
   "source": [
    "10) Encuentra al usuario activo en el sistema"
   ]
  },
  {
   "cell_type": "code",
   "execution_count": null,
   "id": "123f00e7",
   "metadata": {},
   "outputs": [],
   "source": [
    "whoami"
   ]
  },
  {
   "cell_type": "code",
   "execution_count": null,
   "id": "5dd671df",
   "metadata": {},
   "outputs": [],
   "source": [
    "11) Encuentra dónde estás en tu sistema de ficheros"
   ]
  },
  {
   "cell_type": "code",
   "execution_count": null,
   "id": "1f9e9611",
   "metadata": {},
   "outputs": [],
   "source": [
    "pwd"
   ]
  },
  {
   "cell_type": "markdown",
   "id": "8db8899b",
   "metadata": {},
   "source": [
    "12) Lista los archivos que terminan por .txt en la carpeta lorem"
   ]
  },
  {
   "cell_type": "code",
   "execution_count": null,
   "id": "14699551",
   "metadata": {},
   "outputs": [],
   "source": [
    "#entro a la carpeta lorem usando cd \n",
    "#uso el codigo\n",
    "find . -name \"*.txt\""
   ]
  },
  {
   "cell_type": "code",
   "execution_count": null,
   "id": "03611e5b",
   "metadata": {},
   "outputs": [],
   "source": [
    "13) Cuenta el número de líneas que tiene el archivo sed.txt dentro de la carpeta lorem."
   ]
  },
  {
   "cell_type": "code",
   "execution_count": null,
   "id": "8df6349e",
   "metadata": {},
   "outputs": [],
   "source": [
    "#entro a la carpeta lorem usando cd\n",
    "#uso el codigo \n",
    "wc -l sed.txt"
   ]
  }
 ],
 "metadata": {
  "kernelspec": {
   "display_name": "clase",
   "language": "python",
   "name": "clase"
  },
  "language_info": {
   "codemirror_mode": {
    "name": "ipython",
    "version": 3
   },
   "file_extension": ".py",
   "mimetype": "text/x-python",
   "name": "python",
   "nbconvert_exporter": "python",
   "pygments_lexer": "ipython3",
   "version": "3.10.13"
  }
 },
 "nbformat": 4,
 "nbformat_minor": 5
}
