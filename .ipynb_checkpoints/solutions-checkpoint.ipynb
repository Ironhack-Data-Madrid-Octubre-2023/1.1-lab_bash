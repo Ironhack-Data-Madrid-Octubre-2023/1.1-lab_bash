{
 "cells": [
  {
   "cell_type": "markdown",
   "id": "5b9fa29d",
   "metadata": {},
   "source": [
    "1. Imprime en consola `Hello World`."
   ]
  },
  {
   "cell_type": "markdown",
   "id": "1255242a",
   "metadata": {},
   "source": [
    "echo 'Hello World'"
   ]
  },
  {
   "cell_type": "markdown",
   "id": "dcc22aa8",
   "metadata": {},
   "source": [
    "2. Crea un directorio nuevo llamado `new_dir`."
   ]
  },
  {
   "cell_type": "markdown",
   "id": "23570fc0",
   "metadata": {},
   "source": [
    "mkdir 'new_dir'"
   ]
  },
  {
   "cell_type": "markdown",
   "id": "3ed770b9",
   "metadata": {},
   "source": [
    "3. Elimina ese directorio."
   ]
  },
  {
   "cell_type": "markdown",
   "id": "042e828f",
   "metadata": {},
   "source": [
    "rm -r 'new_dir'"
   ]
  },
  {
   "cell_type": "markdown",
   "id": "94caebad",
   "metadata": {},
   "source": [
    "4. Copia el archivo `sed.txt` dentro de la carpeta lorem a la carpeta lorem-copy. TIP: Puede ser necesario crear la carpeta lorem-copy primero."
   ]
  },
  {
   "cell_type": "markdown",
   "id": "b80271f7",
   "metadata": {},
   "source": [
    "mkdir 'lorem-copy'\n",
    "cp 'lorem/sed.txt' 'lorem-copy'"
   ]
  },
  {
   "cell_type": "markdown",
   "id": "2a7a2e69",
   "metadata": {},
   "source": [
    "5. Muestra el contenido del archivo `sed.txt` dentro de la carpeta lorem."
   ]
  },
  {
   "cell_type": "markdown",
   "id": "905022cb",
   "metadata": {},
   "source": [
    "cat 'lorem/sed.txt'"
   ]
  },
  {
   "cell_type": "markdown",
   "id": "5355a88f",
   "metadata": {},
   "source": [
    "6. Muestra el contenido de los archivos `at.txt` y `lorem.txt` dentro de la carpeta lorem."
   ]
  },
  {
   "cell_type": "markdown",
   "id": "09ee2d0f",
   "metadata": {},
   "source": [
    "cat 'lorem/at.txt'\n",
    "cat 'lorem/lorem.txt'"
   ]
  },
  {
   "cell_type": "markdown",
   "id": "4e28bef6",
   "metadata": {},
   "source": [
    "7. Visualiza las primeras 3 líneas del archivo `sed.txt` dentro de la carpeta lorem-copy"
   ]
  },
  {
   "cell_type": "markdown",
   "id": "a11336d5",
   "metadata": {},
   "source": [
    "head -n 3 'sed.txt'"
   ]
  },
  {
   "cell_type": "markdown",
   "id": "170df060",
   "metadata": {},
   "source": [
    "8. Añade `Homo homini lupus.` al final de archivo `sed.txt` dentro de la carpeta lorem-copy."
   ]
  },
  {
   "cell_type": "markdown",
   "id": "433bb56f",
   "metadata": {},
   "source": [
    "echo 'Homo homini lupus' >> 'lorem-copy/sed.txt'"
   ]
  },
  {
   "cell_type": "markdown",
   "id": "3bea6073",
   "metadata": {},
   "source": [
    "9. Visualiza las últimas 3 líneas del archivo `sed.txt` dentro de la carpeta lorem-copy. Deberías ver ahora `Homo homini lupus.`."
   ]
  },
  {
   "cell_type": "markdown",
   "id": "7bcb88ef",
   "metadata": {},
   "source": [
    "tail -n 3 'sed.txt'"
   ]
  },
  {
   "cell_type": "markdown",
   "id": "b28c4994",
   "metadata": {},
   "source": [
    "10. Encuentra al usuario activo en el sistema."
   ]
  },
  {
   "cell_type": "markdown",
   "id": "4c3bb0da",
   "metadata": {},
   "source": [
    "whoami"
   ]
  },
  {
   "cell_type": "markdown",
   "id": "19833fbf",
   "metadata": {},
   "source": [
    "11. Encuentra dónde estás en tu sistema de ficheros."
   ]
  },
  {
   "cell_type": "markdown",
   "id": "5ca6c2da",
   "metadata": {},
   "source": [
    "pwd"
   ]
  },
  {
   "cell_type": "markdown",
   "id": "26003e1c",
   "metadata": {},
   "source": [
    "12. Lista los archivos que terminan por `.txt` en la carpeta lorem."
   ]
  },
  {
   "cell_type": "markdown",
   "id": "ccb90fb4",
   "metadata": {},
   "source": [
    "find lorem -type f -name '*.txt'"
   ]
  },
  {
   "cell_type": "markdown",
   "id": "b21a4f2b",
   "metadata": {},
   "source": [
    "13. Cuenta el número de líneas que tiene el archivo `sed.txt` dentro de la carpeta lorem."
   ]
  },
  {
   "cell_type": "markdown",
   "id": "717af2eb",
   "metadata": {},
   "source": [
    "wc 'lorem/sed.txt'"
   ]
  },
  {
   "cell_type": "markdown",
   "id": "eac7131d",
   "metadata": {},
   "source": [
    "14. Cuenta el número de **archivos** que empiezan por `lorem` que están en este directorio y en directorios internos."
   ]
  },
  {
   "cell_type": "markdown",
   "id": "223301e6",
   "metadata": {},
   "source": [
    "find lorem -type f -name 'lorem*'"
   ]
  },
  {
   "cell_type": "markdown",
   "id": "753f87a2",
   "metadata": {},
   "source": [
    "15. Cuenta el número de apariciones del string `et` en `at.txt` dentro de la carpeta lorem."
   ]
  },
  {
   "cell_type": "markdown",
   "id": "135629cd",
   "metadata": {},
   "source": [
    "cd ironhack\n",
    "cd 1.1-lab_bash\n",
    "cd lorem\n",
    "grep 'et' at.txt\n",
    "wc 'et' at.txt"
   ]
  }
 ],
 "metadata": {
  "kernelspec": {
   "display_name": "Python 3 (ipykernel)",
   "language": "python",
   "name": "python3"
  },
  "language_info": {
   "codemirror_mode": {
    "name": "ipython",
    "version": 3
   },
   "file_extension": ".py",
   "mimetype": "text/x-python",
   "name": "python",
   "nbconvert_exporter": "python",
   "pygments_lexer": "ipython3",
   "version": "3.11.4"
  }
 },
 "nbformat": 4,
 "nbformat_minor": 5
}
