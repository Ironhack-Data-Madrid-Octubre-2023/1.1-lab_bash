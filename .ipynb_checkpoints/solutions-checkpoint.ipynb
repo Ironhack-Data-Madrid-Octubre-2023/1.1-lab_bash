{
 "cells": [
  {
   "cell_type": "markdown",
   "id": "22a1869c",
   "metadata": {},
   "source": [
    "Imprime en consola Hello World.\n",
    "\n",
    "echo \"Hello World\""
   ]
  },
  {
   "cell_type": "code",
   "execution_count": null,
   "id": "a135b7b5",
   "metadata": {},
   "outputs": [],
   "source": [
    "Crea un directorio nuevo llamado new_dir.\n",
    "\n",
    "mkdir new_dir"
   ]
  },
  {
   "cell_type": "code",
   "execution_count": null,
   "id": "7f947aa3",
   "metadata": {},
   "outputs": [],
   "source": [
    "Elimina ese directorio.\n",
    "\n",
    "rm -r new_dir"
   ]
  },
  {
   "cell_type": "code",
   "execution_count": null,
   "id": "2e4ff162",
   "metadata": {},
   "outputs": [],
   "source": [
    "Copia el archivo sed.txt dentro de la carpeta lorem a la carpeta lorem-copy. \n",
    "SUGERENCIA: Puede ser necesario crear la carpeta lorem-copy primero.\n",
    "\n",
    "    mkdir lorem-copy\n",
    "    \n",
    "    cp lorem/sed.txt lorem-copy/"
   ]
  },
  {
   "cell_type": "code",
   "execution_count": null,
   "id": "72a0835d",
   "metadata": {},
   "outputs": [],
   "source": [
    "Muestra el contenido del archivo sed.txt dentro de la carpeta lorem.\n",
    "\n",
    "\n",
    "(base) sarapazopadron@MacBook-Air-de-Sara 1.1-lab_bash % cat lorem/sed.txt\n",
    "\n",
    "Sed ut perspiciatis unde omnis iste natus error sit voluptatem accusantium doloremque laudantium,\n",
    "totam rem aperiam, eaque ipsa quae ab illo inventore veritatis et quasi architecto beatae vitae dicta sunt explicabo.\n",
    "Nemo enim ipsam voluptatem quia voluptas sit aspernatur aut odit aut fugit,\n",
    "sed quia consequuntur magni dolores eos qui ratione voluptatem sequi nesciunt.\n",
    "Neque porro quisquam est, qui dolorem ipsum quia dolor sit amet, consectetur, adipisci velit,\n",
    "sed quia non numquam eius modi tempora incidunt ut labore et dolore magnam aliquam quaerat voluptatem.\n",
    "Ut enim ad minima veniam, quis nostrum exercitationem ullam corporis suscipit laboriosam,\n",
    "nisi ut aliquid ex ea commodi consequatur? Quis autem vel eum iure reprehenderit qui in ea voluptate velit esse quam nihil molestiae consequatur,\n",
    "vel illum qui dolorem eum fugiat quo voluptas nulla pariatur?%"
   ]
  },
  {
   "cell_type": "code",
   "execution_count": null,
   "id": "89a43b88",
   "metadata": {},
   "outputs": [],
   "source": [
    "Muestra el contenido de los archivos at.txty lorem.txt dentro de la carpeta lorem.\n",
    "\n",
    "(base) sarapazopadron@MacBook-Air-de-Sara 1.1-lab_bash % cat lorem/at.txt lorem/lorem.txt\n",
    "\n",
    "At vero eos et accusamus et iusto odio dignissimos ducimus qui blanditiis praesentium voluptatum\n",
    "deleniti atque corrupti quos dolores et quas molestias excepturi sint occaecati cupiditate non\n",
    "provident, similique sunt in culpa qui officia deserunt mollitia animi, id est laborum et dolorum fuga.\n",
    "Et harum quidem rerum facilis est et expedita distinctio.\n",
    "Nam libero tempore, cum soluta nobis est eligendi optio cumque nihil impedit quo minus id quod\n",
    "maxime placeat facere possimus, omnis voluptas assumenda est, omnis dolor repellendus.\n",
    "Temporibus autem quibusdam et aut officiis debitis aut rerum necessitatibus saepe eveniet\n",
    "ut et voluptates repudiandae sint et molestiae non recusandae.\n",
    "Itaque earum rerum hic tenetur a sapiente delectus, ut aut reiciendis voluptatibus maiores\n",
    "alias consequatur aut perferendis doloribus asperiores repellatLorem ipsum dolor sit amet, consectetur adipiscing elit, sed do eiusmod tempor incididunt ut labore et dolore magna aliqua.\n",
    "Ut enim ad minim veniam, quis nostrud exercitation ullamco laboris nisi ut aliquip ex ea commodo consequat.\n",
    "Duis aute irure dolor in reprehenderit in voluptate velit esse cillum dolore eu fugiat nulla pariatur.\n",
    "Excepteur sint occaecat cupidatat non proident, sunt in culpa qui officia deserunt mollit anim id est laborum"
   ]
  },
  {
   "cell_type": "code",
   "execution_count": null,
   "id": "270953e4",
   "metadata": {},
   "outputs": [],
   "source": [
    "Visualiza las primeras 3 líneas del archivo sed.txt dentro de la carpeta lorem-copy\n",
    "\n",
    "(base) sarapazopadron@MacBook-Air-de-Sara 1.1-lab_bash % head -n 3 lorem-copy/sed.txt"
   ]
  },
  {
   "cell_type": "code",
   "execution_count": null,
   "id": "140eddc3",
   "metadata": {},
   "outputs": [],
   "source": [
    "Agregue Homo homini lupus. al final de archivo sed.txt dentro de la carpeta lorem-copy.\n",
    "\n",
    "(base) sarapazopadron@MacBook-Air-de-Sara 1.1-lab_bash %echo \"Homo homini lupus.\" >> lorem-copy/sed.txt"
   ]
  },
  {
   "cell_type": "code",
   "execution_count": null,
   "id": "920fea87",
   "metadata": {},
   "outputs": [],
   "source": [
    "Visualiza las últimas 3 líneas del archivo sed.txt dentro de la carpeta lorem-copy. \n",
    "Deberías ver ahora Homo homini lupus..\n",
    "\n",
    "(base) sarapazopadron@MacBook-Air-de-Sara 1.1-lab_bash % tail -n 3 lorem-copy/sed.txt\n",
    "\n",
    "Ut enim ad minima veniam, quis nostrum exercitationem ullam corporis suscipit laboriosam,\n",
    "nisi ut aliquid ex ea commodi consequatur? Quis autem vel eum iure reprehenderit qui in ea voluptate velit esse quam nihil molestiae consequatur,\n",
    "vel illum qui dolorem eum fugiat quo voluptas nulla pariatur?Homo homini lupus."
   ]
  },
  {
   "cell_type": "code",
   "execution_count": null,
   "id": "0e72e170",
   "metadata": {},
   "outputs": [],
   "source": [
    "Encuentra al usuario activo en el sistema.\n",
    "\n",
    "(base) sarapazopadron@MacBook-Air-de-Sara 1.1-lab_bash % whoami\n",
    "sarapazopadron"
   ]
  },
  {
   "cell_type": "code",
   "execution_count": null,
   "id": "f3860a32",
   "metadata": {},
   "outputs": [],
   "source": [
    "Encuentra dónde estás en tu sistema de ficheros.\n",
    "\n",
    "(base) sarapazopadron@MacBook-Air-de-Sara 1.1-lab_bash % pwd\n",
    "/Users/sarapazopadron/Desktop/BOOTCAMP/Apuntes_clase/1.1-lab_bash"
   ]
  },
  {
   "cell_type": "code",
   "execution_count": null,
   "id": "6fff19fd",
   "metadata": {},
   "outputs": [],
   "source": [
    "Lista los archivos que terminan por .txt en la carpeta lorem.\n",
    "\n",
    "(base) sarapazopadron@MacBook-Air-de-Sara 1.1-lab_bash % cd lorem\n",
    "(base) sarapazopadron@MacBook-Air-de-Sara lorem % ls *.txt\n",
    "\n",
    "at.txt\t\tlorem.txt\tsed.txt"
   ]
  },
  {
   "cell_type": "code",
   "execution_count": null,
   "id": "f8ecd625",
   "metadata": {},
   "outputs": [],
   "source": [
    "Cuenta el número de líneas que tiene el archivo sed.txt dentro de la carpeta lorem.\n",
    "\n",
    "(base) sarapazopadron@MacBook-Air-de-Sara lorem % wc sed.txt\n",
    "       8     129     873 sed.txt\n",
    "    \n",
    "(base) sarapazopadron@MacBook-Air-de-Sara lorem % wc -l  sed.txt\n",
    "       8 sed.txt"
   ]
  },
  {
   "cell_type": "markdown",
   "id": "eafcd431",
   "metadata": {},
   "source": [
    "Cuenta el número de archivos que empiezan por lorem\n",
    "que están en este directorio y en directorios internos.\n",
    "\n",
    "(base) sarapazopadron@MacBook-Air-de-Sara lorem % find . -type f -name \"lorem*\"\n",
    "./lorem-copy\n",
    "./lorem.txt\n",
    "\n",
    "(base) sarapazopadron@MacBook-Air-de-Sara lorem % find . -type f -name \"lorem*\" | wc -l\n",
    "       2"
   ]
  },
  {
   "cell_type": "code",
   "execution_count": null,
   "id": "4c106344",
   "metadata": {},
   "outputs": [],
   "source": [
    "Cuenta el número de apariciones del string et en at.txt dentro de la carpeta lorem.\n",
    "\n",
    "(base) sarapazopadron@MacBook-Air-de-Sara lorem % grep 'et' at.txt | wc\n",
    "       7      86     605"
   ]
  },
  {
   "cell_type": "markdown",
   "id": "1d4015d6",
   "metadata": {},
   "source": [
    "# Fiesta de ficheros"
   ]
  },
  {
   "cell_type": "code",
   "execution_count": null,
   "id": "94b090cf",
   "metadata": {},
   "outputs": [],
   "source": [
    "(base) sarapazopadron@MacBook-Air-de-Sara 1.1-lab_bash % touch list_files.sh"
   ]
  },
  {
   "cell_type": "code",
   "execution_count": null,
   "id": "9178d415",
   "metadata": {},
   "outputs": [],
   "source": [
    "(base) sarapazopadron@MacBook-Air-de-Sara 1.1-lab_bash % touch list_files.sh\n",
    "\n",
    "(base) sarapazopadron@MacBook-Air-de-Sara 1.1-lab_bash % echo \"ls\" >> list_files.sh\n",
    "\n",
    "(base) sarapazopadron@MacBook-Air-de-Sara 1.1-lab_bash % bash ./list_files.sh\n",
    "README.md\tlist_files.sh\tlorem\t\tlorem-copy\tsolutions.ipynb\n",
    "\n",
    "(base) sarapazopadron@MacBook-Air-de-Sara 1.1-lab_bash % ls\n",
    "README.md\tlist_files.sh\tlorem\t\tlorem-copy\tsolutions.ipynb"
   ]
  }
 ],
 "metadata": {
  "kernelspec": {
   "display_name": "clase",
   "language": "python",
   "name": "clase"
  },
  "language_info": {
   "codemirror_mode": {
    "name": "ipython",
    "version": 3
   },
   "file_extension": ".py",
   "mimetype": "text/x-python",
   "name": "python",
   "nbconvert_exporter": "python",
   "pygments_lexer": "ipython3",
   "version": "3.10.13"
  }
 },
 "nbformat": 4,
 "nbformat_minor": 5
}
