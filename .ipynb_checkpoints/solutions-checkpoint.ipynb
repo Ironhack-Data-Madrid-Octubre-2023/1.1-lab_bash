{
 "cells": [
  {
   "cell_type": "markdown",
   "id": "e1ab0550",
   "metadata": {},
   "source": [
    "# Lab Bash"
   ]
  },
  {
   "cell_type": "markdown",
   "id": "29943f62",
   "metadata": {},
   "source": [
    "Imprimir \"Hello World\" en la consola"
   ]
  },
  {
   "cell_type": "raw",
   "id": "472e6649",
   "metadata": {},
   "source": [
    "echo 'Hello World'"
   ]
  },
  {
   "cell_type": "markdown",
   "id": "26d7ea5b",
   "metadata": {},
   "source": [
    "Crear un directorio llamado \"new_dir\""
   ]
  },
  {
   "cell_type": "raw",
   "id": "9801e23b",
   "metadata": {},
   "source": [
    "mdkir new_dir"
   ]
  },
  {
   "cell_type": "markdown",
   "id": "a98d922a",
   "metadata": {},
   "source": [
    "Eliminar ese directorio"
   ]
  },
  {
   "cell_type": "raw",
   "id": "a652a252",
   "metadata": {},
   "source": [
    "rm -r new_dir"
   ]
  },
  {
   "cell_type": "markdown",
   "id": "2a5222bb",
   "metadata": {},
   "source": [
    "Copia el archivo sed.txt dentro de la carpeta lorem a la carpeta lorem-copy. TIP: Puede ser necesario crear la carpeta lorem-copy primero."
   ]
  },
  {
   "cell_type": "raw",
   "id": "6da410b9",
   "metadata": {},
   "source": [
    "mkdir lorem-copy\n",
    "cp ./lorem/sed.txt ./lorem-copy"
   ]
  },
  {
   "cell_type": "markdown",
   "id": "5b0b092e",
   "metadata": {},
   "source": [
    "Muestra el contenido del archivo sed.txt dentro de la carpeta lorem."
   ]
  },
  {
   "cell_type": "raw",
   "id": "ae19c70a",
   "metadata": {},
   "source": [
    "cat ./lorem/sed.txt"
   ]
  },
  {
   "cell_type": "markdown",
   "id": "426d6cd6",
   "metadata": {},
   "source": [
    "Muestra el contenido de los archivos at.txt y lorem.txt dentro de la carpeta lorem."
   ]
  },
  {
   "cell_type": "raw",
   "id": "64babb08",
   "metadata": {},
   "source": [
    "cat ./lorem/at.txt ./lorem/lorem.txt"
   ]
  },
  {
   "cell_type": "markdown",
   "id": "bdcbedf1",
   "metadata": {},
   "source": [
    "Visualiza las primeras 3 líneas del archivo sed.txt dentro de la carpeta lorem-copy"
   ]
  },
  {
   "cell_type": "raw",
   "id": "db4f3379",
   "metadata": {},
   "source": [
    "head -3 ./lorem/sed.txt"
   ]
  },
  {
   "cell_type": "markdown",
   "id": "1688335e",
   "metadata": {},
   "source": [
    "Añade Homo homini lupus. al final de archivo sed.txt dentro de la carpeta lorem-copy."
   ]
  },
  {
   "cell_type": "raw",
   "id": "fe69df46",
   "metadata": {},
   "source": [
    "echo \"Homo homini lupus.\" >> ./lorem/sed.txt"
   ]
  },
  {
   "cell_type": "markdown",
   "id": "81ac4621",
   "metadata": {},
   "source": [
    "Visualiza las últimas 3 líneas del archivo sed.txt dentro de la carpeta lorem-copy. Deberías ver ahora Homo homini lupus.."
   ]
  },
  {
   "cell_type": "raw",
   "id": "c3498a87",
   "metadata": {},
   "source": [
    "tail -3 ./lorem/sed.txt"
   ]
  },
  {
   "cell_type": "markdown",
   "id": "49a0c803",
   "metadata": {},
   "source": [
    "Encuentra al usuario activo en el sistema."
   ]
  },
  {
   "cell_type": "raw",
   "id": "f241a989",
   "metadata": {},
   "source": [
    "whoami"
   ]
  },
  {
   "cell_type": "markdown",
   "id": "5c3717d6",
   "metadata": {},
   "source": [
    "Lista los archivos que terminan por .txt en la carpeta lorem"
   ]
  },
  {
   "cell_type": "raw",
   "id": "91e4269c",
   "metadata": {},
   "source": [
    "cd ./Lorem\n",
    "ls \"*.txt\""
   ]
  },
  {
   "cell_type": "markdown",
   "id": "602b7908",
   "metadata": {},
   "source": [
    "Encuentra dónde estás en tu sistema de ficheros."
   ]
  },
  {
   "cell_type": "raw",
   "id": "b8753a14",
   "metadata": {},
   "source": [
    "pwd"
   ]
  },
  {
   "cell_type": "markdown",
   "id": "d2768122",
   "metadata": {},
   "source": [
    "Cuenta el número de líneas que tiene el archivo sed.txt dentro de la carpeta lorem."
   ]
  },
  {
   "cell_type": "raw",
   "id": "39e93822",
   "metadata": {},
   "source": [
    "wc -l ./lorem/sed.txt"
   ]
  },
  {
   "cell_type": "markdown",
   "id": "6e2ad412",
   "metadata": {},
   "source": [
    "Cuenta el número de archivos que empiezan por lorem que están en este directorio y los directorios internos"
   ]
  },
  {
   "cell_type": "raw",
   "id": "1267081a",
   "metadata": {},
   "source": [
    "find . -type f -name \"lorem*\" | wc -l"
   ]
  },
  {
   "cell_type": "markdown",
   "id": "07bc4790",
   "metadata": {},
   "source": [
    "Cuenta el número de apariciones del string et en at.txt dentro de la carpeta lorem."
   ]
  },
  {
   "cell_type": "raw",
   "id": "744b0d31",
   "metadata": {},
   "source": [
    "grep -o -i et ./lorem/at.txt | wc -l"
   ]
  }
 ],
 "metadata": {
  "kernelspec": {
   "display_name": "Python 3 (ipykernel)",
   "language": "python",
   "name": "python3"
  },
  "language_info": {
   "codemirror_mode": {
    "name": "ipython",
    "version": 3
   },
   "file_extension": ".py",
   "mimetype": "text/x-python",
   "name": "python",
   "nbconvert_exporter": "python",
   "pygments_lexer": "ipython3",
   "version": "3.11.4"
  }
 },
 "nbformat": 4,
 "nbformat_minor": 5
}
