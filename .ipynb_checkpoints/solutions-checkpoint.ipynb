{
 "cells": [
  {
   "cell_type": "markdown",
   "id": "a60b3dfe",
   "metadata": {},
   "source": [
    "# Lab Bash"
   ]
  },
  {
   "cell_type": "markdown",
   "id": "915e7077",
   "metadata": {},
   "source": [
    "Imprimir \"Hello World\" en la consola"
   ]
  },
  {
   "cell_type": "raw",
   "id": "62acee9f",
   "metadata": {},
   "source": [
    "echo 'Hello World'"
   ]
  },
  {
   "cell_type": "markdown",
   "id": "06beb0e2",
   "metadata": {},
   "source": [
    "Crear un directorio llamado \"new_dir\""
   ]
  },
  {
   "cell_type": "raw",
   "id": "ab130bbf",
   "metadata": {},
   "source": [
    "mdkir new_dir"
   ]
  },
  {
   "cell_type": "markdown",
   "id": "1c396440",
   "metadata": {},
   "source": [
    "Eliminar ese directorio"
   ]
  },
  {
   "cell_type": "raw",
   "id": "55cdfbe4",
   "metadata": {},
   "source": [
    "rm -r new_dir"
   ]
  },
  {
   "cell_type": "markdown",
   "id": "07d1f7de",
   "metadata": {},
   "source": [
    "Copia el archivo sed.txt dentro de la carpeta lorem a la carpeta lorem-copy. TIP: Puede ser necesario crear la carpeta lorem-copy primero."
   ]
  },
  {
   "cell_type": "raw",
   "id": "91d8ef98",
   "metadata": {},
   "source": [
    "mkdir lorem-copy\n",
    "cp ./lorem/sed.txt ./lorem-copy"
   ]
  },
  {
   "cell_type": "markdown",
   "id": "b07c0e74",
   "metadata": {},
   "source": [
    "Muestra el contenido del archivo sed.txt dentro de la carpeta lorem."
   ]
  },
  {
   "cell_type": "raw",
   "id": "f7fb83e6",
   "metadata": {},
   "source": [
    "cat ./lorem/sed.txt"
   ]
  },
  {
   "cell_type": "markdown",
   "id": "06590ad4",
   "metadata": {},
   "source": [
    "Muestra el contenido de los archivos at.txt y lorem.txt dentro de la carpeta lorem."
   ]
  },
  {
   "cell_type": "raw",
   "id": "61b3cf73",
   "metadata": {},
   "source": [
    "cat ./lorem/at.txt\n",
    "cat ./lorem/lorem.txt"
   ]
  }
 ],
 "metadata": {
  "kernelspec": {
   "display_name": "Python 3 (ipykernel)",
   "language": "python",
   "name": "python3"
  },
  "language_info": {
   "codemirror_mode": {
    "name": "ipython",
    "version": 3
   },
   "file_extension": ".py",
   "mimetype": "text/x-python",
   "name": "python",
   "nbconvert_exporter": "python",
   "pygments_lexer": "ipython3",
   "version": "3.11.4"
  }
 },
 "nbformat": 4,
 "nbformat_minor": 5
}
