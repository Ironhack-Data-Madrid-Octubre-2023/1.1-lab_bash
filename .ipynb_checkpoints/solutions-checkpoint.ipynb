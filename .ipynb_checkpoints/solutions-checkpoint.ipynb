{
 "cells": [
  {
   "cell_type": "markdown",
   "id": "6b149e0a",
   "metadata": {},
   "source": [
    "1) Imprime en consola `Hello World`.\n",
    "\n",
    "echo \"Hello world\""
   ]
  },
  {
   "cell_type": "markdown",
   "id": "ebb1b679",
   "metadata": {},
   "source": [
    "2) Crea un directorio nuevo llamado `new_dir`.\n",
    "\n",
    "mkdir \"new_dir\"\n",
    "\n",
    "ls"
   ]
  },
  {
   "cell_type": "markdown",
   "id": "e1ed33de",
   "metadata": {},
   "source": [
    "3) Elimina ese directorio.\n",
    "\n",
    "rm -r \"new_dir\"\n",
    "\n",
    "ls"
   ]
  },
  {
   "cell_type": "markdown",
   "id": "92968ca2",
   "metadata": {},
   "source": [
    "4) Copia el archivo `sed.txt` dentro de la carpeta lorem a la carpeta lorem-copy. TIP: Puede ser necesario crear la carpeta lorem-copy primero. \n",
    "\n",
    "mkdir \"lorem-copy\"\n",
    "\n",
    "cp lorem/sed.txt lorem-copy\n",
    "\n",
    "cd lorem-copy\n",
    "\n",
    "ls"
   ]
  },
  {
   "cell_type": "markdown",
   "id": "fd8d361d",
   "metadata": {},
   "source": [
    "5) Muestra el contenido del archivo `sed.txt` dentro de la carpeta lorem. \n",
    "\n",
    "cat sed.txt"
   ]
  },
  {
   "cell_type": "markdown",
   "id": "595a225f",
   "metadata": {},
   "source": [
    "6) Muestra el contenido de los archivos `at.txt` y `lorem.txt` dentro de la carpeta lorem. \n",
    "\n",
    "cd ..\n",
    "\n",
    "cd lorem\n",
    "\n",
    "ls\n",
    "\n",
    "cat at.txt"
   ]
  },
  {
   "cell_type": "markdown",
   "id": "a3ab8915",
   "metadata": {},
   "source": [
    "7) Visualiza las primeras 3 líneas del archivo `sed.txt` dentro de la carpeta lorem-copy \n",
    "\n",
    "head -n3 sed.txt"
   ]
  },
  {
   "cell_type": "markdown",
   "id": "3f5bb1a1",
   "metadata": {},
   "source": [
    "8) Añade `Homo homini lupus.` al final de archivo `sed.txt` dentro de la carpeta lorem-copy. \n",
    "\n",
    "echo \"Homo homini lupus\" >> sed.txt\n",
    "\n",
    "tail sed.txt"
   ]
  },
  {
   "cell_type": "markdown",
   "id": "c591deaa",
   "metadata": {},
   "source": [
    "9) Visualiza las últimas 3 líneas del archivo `sed.txt` dentro de la carpeta lorem-copy. Deberías ver ahora `Homo homini lupus.`. \n",
    "\n",
    "tail -n3 sed.txt"
   ]
  },
  {
   "cell_type": "markdown",
   "id": "538b3872",
   "metadata": {},
   "source": [
    "10) Encuentra al usuario activo en el sistema.\n",
    "\n",
    "whoami"
   ]
  },
  {
   "cell_type": "markdown",
   "id": "d2b571df",
   "metadata": {},
   "source": [
    "11) Encuentra dónde estás en tu sistema de ficheros.\n",
    "\n",
    "pwd"
   ]
  },
  {
   "cell_type": "markdown",
   "id": "051c7a34",
   "metadata": {},
   "source": [
    "12) Lista los archivos que terminan por `.txt` en la carpeta lorem.\n",
    "\n",
    "cd ..\n",
    "\n",
    "cd lorem\n",
    "\n",
    "ls *.txt"
   ]
  },
  {
   "cell_type": "markdown",
   "id": "0f871956",
   "metadata": {},
   "source": [
    "13) Cuenta el número de líneas que tiene el archivo `sed.txt` dentro de la carpeta lorem. \n",
    "\n",
    "wc sed.txt"
   ]
  },
  {
   "cell_type": "markdown",
   "id": "e795eed4",
   "metadata": {},
   "source": [
    "14) Cuenta el número de **archivos** que empiezan por `lorem` que están en este directorio y en directorios internos.\n",
    "\n",
    "find . -type f -name \"lorem*\""
   ]
  },
  {
   "cell_type": "markdown",
   "id": "ae4f9679",
   "metadata": {},
   "source": [
    "15) Cuenta el número de apariciones del string `et` en `at.txt` dentro de la carpeta lorem. \n",
    "grep \"et\" at.txt\n",
    "\n",
    "wc \"et\" at.txt"
   ]
  }
 ],
 "metadata": {
  "kernelspec": {
   "display_name": "Python 3 (ipykernel)",
   "language": "python",
   "name": "python3"
  },
  "language_info": {
   "codemirror_mode": {
    "name": "ipython",
    "version": 3
   },
   "file_extension": ".py",
   "mimetype": "text/x-python",
   "name": "python",
   "nbconvert_exporter": "python",
   "pygments_lexer": "ipython3",
   "version": "3.11.4"
  }
 },
 "nbformat": 4,
 "nbformat_minor": 5
}
