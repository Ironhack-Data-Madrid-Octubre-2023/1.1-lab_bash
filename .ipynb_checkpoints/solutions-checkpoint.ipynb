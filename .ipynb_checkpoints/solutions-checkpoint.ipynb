{
 "cells": [
  {
   "cell_type": "code",
   "execution_count": null,
   "id": "9821b89b",
   "metadata": {},
   "outputs": [],
   "source": [
    "1) Imprime en consola Hello World"
   ]
  },
  {
   "cell_type": "code",
   "execution_count": null,
   "id": "f0741cc4",
   "metadata": {},
   "outputs": [],
   "source": [
    "echo 'Hello World'"
   ]
  },
  {
   "cell_type": "code",
   "execution_count": null,
   "id": "3ad17dfc",
   "metadata": {},
   "outputs": [],
   "source": [
    "2) Crea un directorio nuevo llamado new_dir"
   ]
  },
  {
   "cell_type": "markdown",
   "id": "9d1dfb95",
   "metadata": {},
   "source": [
    "mkdir new_dir "
   ]
  },
  {
   "cell_type": "code",
   "execution_count": null,
   "id": "3084176e",
   "metadata": {},
   "outputs": [],
   "source": [
    "3) Elimina ese directorio"
   ]
  },
  {
   "cell_type": "code",
   "execution_count": null,
   "id": "2887942a",
   "metadata": {},
   "outputs": [],
   "source": [
    "rm -r new_dir"
   ]
  },
  {
   "cell_type": "code",
   "execution_count": null,
   "id": "dada95e0",
   "metadata": {},
   "outputs": [],
   "source": [
    "4) Copia el archivo sed.txt dentro de la carpeta lorem a la carpeta lorem-copy. TIP: Puede ser necesario crear la carpeta lorem-copy primero."
   ]
  },
  {
   "cell_type": "code",
   "execution_count": null,
   "id": "80e3b270",
   "metadata": {},
   "outputs": [],
   "source": [
    "#creo la nueva carpeta\n",
    "mkdir lorem-copy \n",
    "\n",
    "#entro en la carpeta lorem usando cd \n",
    "\n",
    "#copio el archivo\n",
    "cp sed.txt /Users/criscarneiro/desktop/ironhack/1.1-lab_bash/lorem-copy"
   ]
  },
  {
   "cell_type": "code",
   "execution_count": null,
   "id": "f786035b",
   "metadata": {},
   "outputs": [],
   "source": [
    "5) Muestra el contenido del archivo sed.txt dentro de la carpeta lorem"
   ]
  },
  {
   "cell_type": "code",
   "execution_count": null,
   "id": "d4b853ce",
   "metadata": {},
   "outputs": [],
   "source": [
    "#entro a la carpeta lorem usando cd\n",
    "\n",
    "#uso cat \n",
    "cat sed.txt "
   ]
  },
  {
   "cell_type": "markdown",
   "id": "9df2dc62",
   "metadata": {},
   "source": [
    "6) Muestra el contenido de los archivos at.txt y lorem.txt dentro de la carpeta lorem"
   ]
  },
  {
   "cell_type": "code",
   "execution_count": null,
   "id": "1504fd29",
   "metadata": {},
   "outputs": [],
   "source": [
    "#entro a la carpeta lorem usando cd \n",
    "#para verlos de una vez \n",
    "cat at.txt lorem.txt"
   ]
  },
  {
   "cell_type": "code",
   "execution_count": null,
   "id": "b97f53d9",
   "metadata": {},
   "outputs": [],
   "source": [
    "7) Visualiza las primeras 3 líneas del archivo sed.txt dentro de la carpeta lorem-copy"
   ]
  },
  {
   "cell_type": "code",
   "execution_count": null,
   "id": "bdf2a88c",
   "metadata": {},
   "outputs": [],
   "source": [
    "#entro a la carpeta lorem-copy usando cd \n",
    "#uso el comando\n",
    "head -3 sed.txt"
   ]
  },
  {
   "cell_type": "code",
   "execution_count": null,
   "id": "004ee87f",
   "metadata": {},
   "outputs": [],
   "source": [
    "8) Añade Homo homini lupus. al final de archivo sed.txt dentro de la carpeta lorem-copy."
   ]
  },
  {
   "cell_type": "code",
   "execution_count": null,
   "id": "804686fd",
   "metadata": {},
   "outputs": [],
   "source": [
    "#entro a la carpeta lorem-copy usando cd \n",
    "#uso el codigo \n",
    "echo ' Homo homini lupus.' >> sed.txt"
   ]
  },
  {
   "cell_type": "code",
   "execution_count": null,
   "id": "9af64d5f",
   "metadata": {},
   "outputs": [],
   "source": [
    "9) Visualiza las últimas 3 líneas del archivo sed.txt dentro de la carpeta lorem-copy. Deberías ver ahora Homo homini lupus."
   ]
  },
  {
   "cell_type": "code",
   "execution_count": null,
   "id": "4c93f09d",
   "metadata": {},
   "outputs": [],
   "source": [
    "#entro a la carpeta lorem-copy usando cd \n",
    "#uso el codigo \n",
    "tail -3 sed.txt"
   ]
  },
  {
   "cell_type": "markdown",
   "id": "a7c5fad9",
   "metadata": {},
   "source": [
    "10) Encuentra al usuario activo en el sistema"
   ]
  },
  {
   "cell_type": "code",
   "execution_count": null,
   "id": "8030fbbd",
   "metadata": {},
   "outputs": [],
   "source": [
    "whoami"
   ]
  },
  {
   "cell_type": "code",
   "execution_count": null,
   "id": "c7b963a4",
   "metadata": {},
   "outputs": [],
   "source": [
    "11) Encuentra dónde estás en tu sistema de ficheros"
   ]
  },
  {
   "cell_type": "code",
   "execution_count": null,
   "id": "5ce44960",
   "metadata": {},
   "outputs": [],
   "source": [
    "pwd"
   ]
  },
  {
   "cell_type": "markdown",
   "id": "fbf53798",
   "metadata": {},
   "source": [
    "12) Lista los archivos que terminan por .txt en la carpeta lorem"
   ]
  },
  {
   "cell_type": "code",
   "execution_count": null,
   "id": "4f36a463",
   "metadata": {},
   "outputs": [],
   "source": [
    "#entro a la carpeta lorem usando cd \n",
    "#uso el codigo\n",
    "find . -name \"*.txt\""
   ]
  },
  {
   "cell_type": "code",
   "execution_count": null,
   "id": "19e7ae32",
   "metadata": {},
   "outputs": [],
   "source": [
    "13) Cuenta el número de líneas que tiene el archivo sed.txt dentro de la carpeta lorem."
   ]
  },
  {
   "cell_type": "code",
   "execution_count": null,
   "id": "baeb069e",
   "metadata": {},
   "outputs": [],
   "source": [
    "#entro a la carpeta lorem usando cd\n",
    "#uso el codigo \n",
    "wc -l sed.txt"
   ]
  },
  {
   "cell_type": "markdown",
   "id": "dfc35e08",
   "metadata": {},
   "source": [
    "14) Cuenta el número de archivos que empiezan por lorem que están en este directorio y en directorios internos"
   ]
  }
 ],
 "metadata": {
  "kernelspec": {
   "display_name": "clase",
   "language": "python",
   "name": "clase"
  },
  "language_info": {
   "codemirror_mode": {
    "name": "ipython",
    "version": 3
   },
   "file_extension": ".py",
   "mimetype": "text/x-python",
   "name": "python",
   "nbconvert_exporter": "python",
   "pygments_lexer": "ipython3",
   "version": "3.10.13"
  }
 },
 "nbformat": 4,
 "nbformat_minor": 5
}
