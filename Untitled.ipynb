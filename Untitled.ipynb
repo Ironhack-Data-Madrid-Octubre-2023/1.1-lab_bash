{
 "cells": [
  {
   "cell_type": "markdown",
   "id": "2d8382d4",
   "metadata": {},
   "source": [
    "# Imprime en consola Hello World.\n"
   ]
  },
  {
   "cell_type": "markdown",
   "id": "42df8ad5",
   "metadata": {},
   "source": [
    "echo Hello world\n"
   ]
  },
  {
   "cell_type": "markdown",
   "id": "56bd426f",
   "metadata": {},
   "source": [
    "# Crea un directorio nuevo llamado new_dir"
   ]
  },
  {
   "cell_type": "markdown",
   "id": "39c56ccb",
   "metadata": {},
   "source": [
    "mkdir new_dir"
   ]
  },
  {
   "cell_type": "markdown",
   "id": "50d27c7d",
   "metadata": {},
   "source": [
    "# Elimina ese directorio."
   ]
  },
  {
   "cell_type": "markdown",
   "id": "f6c14f44",
   "metadata": {},
   "source": [
    "rm -r new_dir"
   ]
  },
  {
   "cell_type": "markdown",
   "id": "bb2ed3e1",
   "metadata": {},
   "source": [
    "# Copia el archivo sed.txt dentro de la carpeta lorem a la carpeta lorem-copy. TIP: Puede ser necesario crear la carpeta lorem-copy primero."
   ]
  },
  {
   "cell_type": "markdown",
   "id": "8efcae79",
   "metadata": {},
   "source": [
    "mkdir lorem-copy \n",
    "\n",
    "cd lorem\n",
    "\n",
    "cp sed.txt \\Users\\daarr\\desktop\\ironhack\\1.1-lab_bash\\lorem-copy"
   ]
  },
  {
   "cell_type": "markdown",
   "id": "48f6945f",
   "metadata": {},
   "source": [
    "# Muestra el contenido del archivo sed.txt dentro de la carpeta lorem."
   ]
  },
  {
   "cell_type": "markdown",
   "id": "ec22b8db",
   "metadata": {},
   "source": [
    "cat sed.txt"
   ]
  },
  {
   "cell_type": "markdown",
   "id": "32282d73",
   "metadata": {},
   "source": [
    "# Muestra el contenido de los archivos at.txt y lorem.txt dentro de la carpeta lorem"
   ]
  },
  {
   "cell_type": "markdown",
   "id": "8975b3fa",
   "metadata": {},
   "source": [
    "cat at.txt\n",
    "\n",
    "cat lorem.txt"
   ]
  },
  {
   "cell_type": "markdown",
   "id": "bc144866",
   "metadata": {},
   "source": [
    "# Visualiza las primeras 3 líneas del archivo sed.txt dentro de la carpeta lorem-copy"
   ]
  },
  {
   "cell_type": "markdown",
   "id": "00111d74",
   "metadata": {},
   "source": [
    "cd ..\n",
    "\n",
    "cd lorem-copy\n",
    "\n",
    "gc sed.txt | select -first 3"
   ]
  },
  {
   "cell_type": "markdown",
   "id": "d9e9ad0c",
   "metadata": {},
   "source": [
    "# Añade Homo homini lupus. al final de archivo sed.txt dentro de la carpeta lorem-copy.\n",
    "\n"
   ]
  },
  {
   "cell_type": "markdown",
   "id": "5c3f3bb6",
   "metadata": {},
   "source": [
    "echo \"Homo homini lupus.\" >> sed.txt"
   ]
  },
  {
   "cell_type": "markdown",
   "id": "5a17da8d",
   "metadata": {},
   "source": [
    "# Visualiza las últimas 3 líneas del archivo sed.txt dentro de la carpeta lorem-copy. Deberías ver ahora Homo homini lupus."
   ]
  },
  {
   "cell_type": "code",
   "execution_count": null,
   "id": "022994da",
   "metadata": {},
   "outputs": [],
   "source": []
  }
 ],
 "metadata": {
  "kernelspec": {
   "display_name": "Python 3 (ipykernel)",
   "language": "python",
   "name": "python3"
  },
  "language_info": {
   "codemirror_mode": {
    "name": "ipython",
    "version": 3
   },
   "file_extension": ".py",
   "mimetype": "text/x-python",
   "name": "python",
   "nbconvert_exporter": "python",
   "pygments_lexer": "ipython3",
   "version": "3.11.4"
  }
 },
 "nbformat": 4,
 "nbformat_minor": 5
}
