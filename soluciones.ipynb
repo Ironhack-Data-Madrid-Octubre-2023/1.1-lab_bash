{
 "cells": [
  {
   "cell_type": "markdown",
   "id": "b7ae3fa9",
   "metadata": {},
   "source": [
    "Imprime en consola `Hello World`."
   ]
  },
  {
   "cell_type": "code",
   "execution_count": 3,
   "id": "a0c6aa9f",
   "metadata": {},
   "outputs": [
    {
     "name": "stdout",
     "output_type": "stream",
     "text": [
      "\"Hello World\"\n"
     ]
    }
   ],
   "source": [
    "echo \"Hello World\""
   ]
  },
  {
   "cell_type": "markdown",
   "id": "db0835f7",
   "metadata": {},
   "source": [
    "Crea un directorio nuevo llamado `new_dir`."
   ]
  },
  {
   "cell_type": "code",
   "execution_count": 4,
   "id": "73107a59",
   "metadata": {},
   "outputs": [],
   "source": [
    "mkdir \"new_dir\""
   ]
  },
  {
   "cell_type": "markdown",
   "id": "e7b30c8a",
   "metadata": {},
   "source": [
    " Elimina ese directorio."
   ]
  },
  {
   "cell_type": "code",
   "execution_count": null,
   "id": "91ba0065",
   "metadata": {},
   "outputs": [],
   "source": [
    "rm -r \"new_dir\""
   ]
  },
  {
   "cell_type": "markdown",
   "id": "dabdb601",
   "metadata": {},
   "source": [
    "Copia el archivo `sed.txt` dentro de la carpeta lorem a la carpeta lorem-copy. TIP: Puede ser necesario crear la carpeta lorem-copy primero."
   ]
  },
  {
   "cell_type": "code",
   "execution_count": null,
   "id": "1282b6dc",
   "metadata": {},
   "outputs": [],
   "source": [
    "mkdir \"lorem-copy\"\n",
    "cp sed.txt lorem-copy/"
   ]
  },
  {
   "cell_type": "markdown",
   "id": "9378b6e7",
   "metadata": {},
   "source": [
    "Muestra el contenido del archivo `sed.txt` dentro de la carpeta lorem."
   ]
  },
  {
   "cell_type": "code",
   "execution_count": null,
   "id": "baae70fe",
   "metadata": {},
   "outputs": [],
   "source": [
    "cat sed.txt lorem/"
   ]
  },
  {
   "cell_type": "markdown",
   "id": "0831c84d",
   "metadata": {},
   "source": [
    "Muestra el contenido de los archivos `at.txt` y `lorem.txt` dentro de la carpeta lorem. "
   ]
  },
  {
   "cell_type": "code",
   "execution_count": null,
   "id": "be2ee2f6",
   "metadata": {},
   "outputs": [],
   "source": [
    "cat at.txt lorem.txt lorem/"
   ]
  },
  {
   "cell_type": "markdown",
   "id": "beabdf92",
   "metadata": {},
   "source": [
    "Visualiza las primeras 3 líneas del archivo `sed.txt` dentro de la carpeta lorem-copy "
   ]
  },
  {
   "cell_type": "code",
   "execution_count": null,
   "id": "96382760",
   "metadata": {},
   "outputs": [],
   "source": []
  },
  {
   "cell_type": "markdown",
   "id": "69c64c7d",
   "metadata": {},
   "source": [
    "Visualiza las primeras 3 líneas del archivo `sed.txt` dentro de la carpeta lorem-copy "
   ]
  },
  {
   "cell_type": "code",
   "execution_count": null,
   "id": "e6b717e0",
   "metadata": {},
   "outputs": [],
   "source": []
  },
  {
   "cell_type": "markdown",
   "id": "14fb92a9",
   "metadata": {},
   "source": [
    "Visualiza las últimas 3 líneas del archivo `sed.txt` dentro de la carpeta lorem-copy. Deberías ver ahora `Homo homini lupus.`."
   ]
  },
  {
   "cell_type": "code",
   "execution_count": null,
   "id": "d8c0223e",
   "metadata": {},
   "outputs": [],
   "source": []
  },
  {
   "cell_type": "markdown",
   "id": "96f51c39",
   "metadata": {},
   "source": [
    "Encuentra al usuario activo en el sistema."
   ]
  },
  {
   "cell_type": "code",
   "execution_count": null,
   "id": "8ffc6d7b",
   "metadata": {},
   "outputs": [],
   "source": []
  },
  {
   "cell_type": "markdown",
   "id": "ba2481c3",
   "metadata": {},
   "source": [
    "Encuentra dónde estás en tu sistema de ficheros."
   ]
  },
  {
   "cell_type": "code",
   "execution_count": null,
   "id": "87dde044",
   "metadata": {},
   "outputs": [],
   "source": []
  },
  {
   "cell_type": "markdown",
   "id": "75d459c2",
   "metadata": {},
   "source": [
    "Lista los archivos que terminan por `.txt` en la carpeta lorem."
   ]
  },
  {
   "cell_type": "code",
   "execution_count": null,
   "id": "f848bdb7",
   "metadata": {},
   "outputs": [],
   "source": []
  },
  {
   "cell_type": "markdown",
   "id": "8ed1058b",
   "metadata": {},
   "source": [
    "Cuenta el número de líneas que tiene el archivo `sed.txt` dentro de la carpeta lorem. "
   ]
  },
  {
   "cell_type": "code",
   "execution_count": null,
   "id": "95697f58",
   "metadata": {},
   "outputs": [],
   "source": []
  },
  {
   "cell_type": "markdown",
   "id": "388c5a07",
   "metadata": {},
   "source": [
    "Cuenta el número de **archivos** que empiezan por `lorem` que están en este directorio y en directorios internos."
   ]
  },
  {
   "cell_type": "code",
   "execution_count": null,
   "id": "548e2722",
   "metadata": {},
   "outputs": [],
   "source": []
  },
  {
   "cell_type": "markdown",
   "id": "ca581ecb",
   "metadata": {},
   "source": [
    "Cuenta el número de apariciones del string `et` en `at.txt` dentro de la carpeta lorem. "
   ]
  },
  {
   "cell_type": "code",
   "execution_count": null,
   "id": "496bb65f",
   "metadata": {},
   "outputs": [],
   "source": []
  }
 ],
 "metadata": {
  "kernelspec": {
   "display_name": "Python 3 (ipykernel)",
   "language": "python",
   "name": "python3"
  },
  "language_info": {
   "codemirror_mode": {
    "name": "ipython",
    "version": 3
   },
   "file_extension": ".py",
   "mimetype": "text/x-python",
   "name": "python",
   "nbconvert_exporter": "python",
   "pygments_lexer": "ipython3",
   "version": "3.10.9"
  }
 },
 "nbformat": 4,
 "nbformat_minor": 5
}
