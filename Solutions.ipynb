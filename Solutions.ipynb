{
 "cells": [
  {
   "cell_type": "markdown",
   "id": "ef57a6ff",
   "metadata": {},
   "source": [
    "1-Imprime en consola Hello World.\n",
    "echo Hello World."
   ]
  },
  {
   "cell_type": "markdown",
   "id": "936fce2c",
   "metadata": {},
   "source": [
    "2-Crea un directorio nuevo llamado new_dir.\n",
    "mkdir new_dir"
   ]
  },
  {
   "cell_type": "markdown",
   "id": "3810a8f8",
   "metadata": {},
   "source": [
    "3-Elimina ese directorio.\n",
    "rm -r new_dir"
   ]
  },
  {
   "cell_type": "markdown",
   "id": "3d1c6988",
   "metadata": {},
   "source": [
    "4-Copia el archivo sed.txt dentro de la carpeta lorem a la carpeta lorem-copy. \n",
    "TIP: Puede ser necesario crear la carpeta lorem-copy primero.\n",
    "\n",
    "mkdir lorem-copy\n",
    "cp lorem/sed.txt lorem-copy"
   ]
  },
  {
   "cell_type": "markdown",
   "id": "5dac7272",
   "metadata": {},
   "source": [
    "5-Muestra el contenido del archivo sed.txt dentro de la carpeta lorem.\n",
    "cat sed.txt"
   ]
  },
  {
   "cell_type": "markdown",
   "id": "028d1e1b",
   "metadata": {},
   "source": [
    "6-Muestra el contenido de los archivos at.txt y lorem.txt dentro de la carpeta lorem.\n",
    "cat at.txt\n",
    "cat lorem.txt"
   ]
  },
  {
   "cell_type": "markdown",
   "id": "a5abc71e",
   "metadata": {},
   "source": [
    "7-Visualiza las primeras 3 líneas del archivo sed.txt dentro de la carpeta lorem-copy\n",
    "cd ..\n",
    "cd lorem-copy\n",
    "head -n 3 sed.txt"
   ]
  },
  {
   "cell_type": "markdown",
   "id": "cfc36440",
   "metadata": {},
   "source": [
    "8-Añade Homo homini lupus. al final de archivo sed.txt dentro de la carpeta lorem-copy.\n",
    "echo \"Homo homini lupus.\" >> sed.txt\n"
   ]
  },
  {
   "cell_type": "markdown",
   "id": "ac36ce41",
   "metadata": {},
   "source": [
    "9-Visualiza las últimas 3 líneas del archivo sed.txt dentro de la carpeta lorem-copy. Deberías ver ahora Homo homini lupus..\n",
    "tail -n 3 sed.txt\n"
   ]
  },
  {
   "cell_type": "markdown",
   "id": "f508a612",
   "metadata": {},
   "source": [
    "10-Encuentra al usuario activo en el sistema.\n",
    "whoami"
   ]
  },
  {
   "cell_type": "markdown",
   "id": "707c75f6",
   "metadata": {},
   "source": [
    "11-Encuentra dónde estás en tu sistema de ficheros.\n",
    "pwd"
   ]
  },
  {
   "cell_type": "markdown",
   "id": "e28d37a3",
   "metadata": {},
   "source": [
    "12-Lista los archivos que terminan por .txt en la carpeta lorem.\n",
    "cd ..\n",
    "cd lorem\n",
    "ls *.txt"
   ]
  },
  {
   "cell_type": "markdown",
   "id": "10d53949",
   "metadata": {},
   "source": [
    "13-Cuenta el número de líneas que tiene el archivo sed.txt dentro de la carpeta lorem.\n",
    "wc sed.txt\n",
    "wc -1 sed.txt"
   ]
  },
  {
   "cell_type": "markdown",
   "id": "55fe68ab",
   "metadata": {},
   "source": [
    "14-Cuenta el número de archivos que empiezan por lorem que están en este directorio y en directorios internos.\n",
    "find . -type f -name \"lorem*\" \n"
   ]
  },
  {
   "cell_type": "markdown",
   "id": "f6f64e5c",
   "metadata": {},
   "source": [
    "15-Cuenta el número de apariciones del string et en at.txt dentro de la carpeta lorem.\n",
    "grep \"et\" at.txt \n",
    "wc \"et\" at.txt\n"
   ]
  },
  {
   "cell_type": "markdown",
   "id": "2bfe6687",
   "metadata": {},
   "source": []
  },
  {
   "cell_type": "markdown",
   "id": "3f8d0a4f",
   "metadata": {},
   "source": [
    "touch list_files.sh \n",
    "\n",
    "echo \"ls\" >> list_files.sh \n",
    "\n",
    "bash list_files.sh"
   ]
  },
  {
   "cell_type": "code",
   "execution_count": null,
   "id": "57984e3a",
   "metadata": {},
   "outputs": [],
   "source": []
  }
 ],
 "metadata": {
  "kernelspec": {
   "display_name": "Python 3 (ipykernel)",
   "language": "python",
   "name": "python3"
  },
  "language_info": {
   "codemirror_mode": {
    "name": "ipython",
    "version": 3
   },
   "file_extension": ".py",
   "mimetype": "text/x-python",
   "name": "python",
   "nbconvert_exporter": "python",
   "pygments_lexer": "ipython3",
   "version": "3.11.4"
  }
 },
 "nbformat": 4,
 "nbformat_minor": 5
}
