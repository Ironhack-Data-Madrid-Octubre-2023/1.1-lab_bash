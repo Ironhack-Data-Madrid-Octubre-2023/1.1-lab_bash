{
 "cells": [
  {
   "cell_type": "markdown",
   "id": "241739ef",
   "metadata": {},
   "source": [
    "### 1) Imprime en consola Hello World"
   ]
  },
  {
   "cell_type": "code",
   "execution_count": null,
   "id": "b030e7a3",
   "metadata": {},
   "outputs": [],
   "source": [
    "echo 'Hello World'"
   ]
  },
  {
   "cell_type": "markdown",
   "id": "cf74ffc2",
   "metadata": {},
   "source": [
    "### 2) Crea un directorio nuevo llamado new_dir"
   ]
  },
  {
   "cell_type": "code",
   "execution_count": null,
   "id": "9f319cd3",
   "metadata": {},
   "outputs": [],
   "source": [
    "#accedo a la carpeta en donde quiero crear el directorio usando cd (p.ej., a mi Desktop)\n",
    "mkdir new_dir "
   ]
  },
  {
   "cell_type": "markdown",
   "id": "f2e6eabc",
   "metadata": {},
   "source": [
    "### 3) Elimina ese directorio"
   ]
  },
  {
   "cell_type": "code",
   "execution_count": null,
   "id": "2887942a",
   "metadata": {},
   "outputs": [],
   "source": [
    "rm -r new_dir"
   ]
  },
  {
   "cell_type": "markdown",
   "id": "93e86f21",
   "metadata": {},
   "source": [
    "### 4) Copia el archivo sed.txt dentro de la carpeta lorem a la carpeta lorem-copy. TIP: Puede ser necesario crear la carpeta lorem-copy primero."
   ]
  },
  {
   "cell_type": "code",
   "execution_count": null,
   "id": "80e3b270",
   "metadata": {},
   "outputs": [],
   "source": [
    "#creo la nueva carpeta\n",
    "mkdir lorem-copy \n",
    "\n",
    "#entro en la carpeta lorem usando cd \n",
    "\n",
    "#copio el archivo\n",
    "cp sed.txt /Users/criscarneiro/desktop/ironhack/1.1-lab_bash/lorem-copy"
   ]
  },
  {
   "cell_type": "markdown",
   "id": "3895cc76",
   "metadata": {},
   "source": [
    "### 5) Muestra el contenido del archivo sed.txt dentro de la carpeta lorem"
   ]
  },
  {
   "cell_type": "code",
   "execution_count": null,
   "id": "d4b853ce",
   "metadata": {},
   "outputs": [],
   "source": [
    "#entro a la carpeta lorem usando cd\n",
    "\n",
    "#uso cat \n",
    "cat sed.txt "
   ]
  },
  {
   "cell_type": "markdown",
   "id": "9df2dc62",
   "metadata": {},
   "source": [
    "### 6) Muestra el contenido de los archivos at.txt y lorem.txt dentro de la carpeta lorem"
   ]
  },
  {
   "cell_type": "code",
   "execution_count": null,
   "id": "1504fd29",
   "metadata": {},
   "outputs": [],
   "source": [
    "#entro a la carpeta lorem usando cd \n",
    "#para verlos de una vez \n",
    "cat at.txt lorem.txt"
   ]
  },
  {
   "cell_type": "markdown",
   "id": "c2bc2966",
   "metadata": {},
   "source": [
    "### 7) Visualiza las primeras 3 líneas del archivo sed.txt dentro de la carpeta lorem-copy"
   ]
  },
  {
   "cell_type": "code",
   "execution_count": null,
   "id": "bdf2a88c",
   "metadata": {},
   "outputs": [],
   "source": [
    "#entro a la carpeta lorem-copy usando cd \n",
    "#uso el comando\n",
    "head -3 sed.txt"
   ]
  },
  {
   "cell_type": "markdown",
   "id": "43dfc6b3",
   "metadata": {},
   "source": [
    "### 8) Añade Homo homini lupus. al final de archivo sed.txt dentro de la carpeta lorem-copy."
   ]
  },
  {
   "cell_type": "code",
   "execution_count": null,
   "id": "804686fd",
   "metadata": {},
   "outputs": [],
   "source": [
    "#entro a la carpeta lorem-copy usando cd \n",
    "#uso el codigo \n",
    "echo ' Homo homini lupus.' >> sed.txt"
   ]
  },
  {
   "cell_type": "markdown",
   "id": "ac9b576d",
   "metadata": {},
   "source": [
    "### 9) Visualiza las últimas 3 líneas del archivo sed.txt dentro de la carpeta lorem-copy. Deberías ver ahora Homo homini lupus."
   ]
  },
  {
   "cell_type": "code",
   "execution_count": null,
   "id": "4c93f09d",
   "metadata": {},
   "outputs": [],
   "source": [
    "#entro a la carpeta lorem-copy usando cd \n",
    "#uso el codigo \n",
    "tail -3 sed.txt"
   ]
  },
  {
   "cell_type": "markdown",
   "id": "a7c5fad9",
   "metadata": {},
   "source": [
    "### 10) Encuentra al usuario activo en el sistema"
   ]
  },
  {
   "cell_type": "code",
   "execution_count": null,
   "id": "8030fbbd",
   "metadata": {},
   "outputs": [],
   "source": [
    "whoami"
   ]
  },
  {
   "cell_type": "markdown",
   "id": "128f29aa",
   "metadata": {},
   "source": [
    "### 11) Encuentra dónde estás en tu sistema de ficheros"
   ]
  },
  {
   "cell_type": "code",
   "execution_count": null,
   "id": "5ce44960",
   "metadata": {},
   "outputs": [],
   "source": [
    "pwd"
   ]
  },
  {
   "cell_type": "markdown",
   "id": "fbf53798",
   "metadata": {},
   "source": [
    "### 12) Lista los archivos que terminan por .txt en la carpeta lorem"
   ]
  },
  {
   "cell_type": "code",
   "execution_count": null,
   "id": "4f36a463",
   "metadata": {},
   "outputs": [],
   "source": [
    "#entro a la carpeta lorem usando cd \n",
    "#uso el codigo\n",
    "find . -name \"*.txt\""
   ]
  },
  {
   "cell_type": "markdown",
   "id": "e24e2bf3",
   "metadata": {},
   "source": [
    "### 13) Cuenta el número de líneas que tiene el archivo sed.txt dentro de la carpeta lorem."
   ]
  },
  {
   "cell_type": "code",
   "execution_count": null,
   "id": "baeb069e",
   "metadata": {},
   "outputs": [],
   "source": [
    "#entro a la carpeta lorem usando cd\n",
    "#uso el codigo \n",
    "wc -l sed.txt"
   ]
  },
  {
   "cell_type": "markdown",
   "id": "dfc35e08",
   "metadata": {},
   "source": [
    "### 14) Cuenta el número de archivos que empiezan por lorem que están en este directorio y en directorios internos"
   ]
  },
  {
   "cell_type": "code",
   "execution_count": null,
   "id": "fbf87e9f",
   "metadata": {},
   "outputs": [],
   "source": [
    "#entro a la carpeta del ejercicio \n",
    "#uso el codigo \n",
    "find . -type f -name \"lorem*\" | wc -l"
   ]
  },
  {
   "cell_type": "markdown",
   "id": "bd7208a7",
   "metadata": {},
   "source": [
    "### Cuenta el número de apariciones del string et en at.txt dentro de la carpeta lorem."
   ]
  },
  {
   "cell_type": "code",
   "execution_count": 4,
   "id": "fde23150",
   "metadata": {},
   "outputs": [],
   "source": [
    "#entro a lorem \n",
    "grep -o -i 'et' at.txt | wc -l"
   ]
  }
 ],
 "metadata": {
  "kernelspec": {
   "display_name": "clase",
   "language": "python",
   "name": "clase"
  },
  "language_info": {
   "codemirror_mode": {
    "name": "ipython",
    "version": 3
   },
   "file_extension": ".py",
   "mimetype": "text/x-python",
   "name": "python",
   "nbconvert_exporter": "python",
   "pygments_lexer": "ipython3",
   "version": "3.10.13"
  }
 },
 "nbformat": 4,
 "nbformat_minor": 5
}
