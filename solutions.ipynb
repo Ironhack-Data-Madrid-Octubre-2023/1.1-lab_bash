{
 "cells": [
  {
   "cell_type": "markdown",
   "id": "d1822a3b",
   "metadata": {},
   "source": [
    "Imprime en consola Hello World.\n",
    "\n"
   ]
  },
  {
   "cell_type": "code",
   "execution_count": 1,
   "id": "6e6edc06",
   "metadata": {},
   "outputs": [
    {
     "name": "stdout",
     "output_type": "stream",
     "text": [
      "\"Hello World\"\n"
     ]
    }
   ],
   "source": [
    "echo \"Hello World\""
   ]
  },
  {
   "cell_type": "markdown",
   "id": "0a450296",
   "metadata": {},
   "source": [
    "Crea un directorio nuevo llamado `new_dir` \n",
    "\n"
   ]
  },
  {
   "cell_type": "code",
   "execution_count": 3,
   "id": "5a392fd7-d2cf-4c07-9e19-e97d6de0e340",
   "metadata": {},
   "outputs": [],
   "source": [
    "mkdir new_dir"
   ]
  },
  {
   "cell_type": "markdown",
   "id": "0f2c4dcf",
   "metadata": {},
   "source": [
    "Elimina ese directorio."
   ]
  },
  {
   "cell_type": "code",
   "execution_count": 41,
   "id": "16ee017a-add8-447a-a05b-cc63e10f3293",
   "metadata": {},
   "outputs": [],
   "source": [
    "%%bash\n",
    "rm -rf new_dir"
   ]
  },
  {
   "cell_type": "markdown",
   "id": "6b7a818a",
   "metadata": {},
   "source": [
    "Copia el archivo `sed.txt` dentro de la carpeta lorem a la carpeta lorem-copy. \n",
    "**TIP: Puede ser necesario crear la carpeta lorem-copy primero.**\n",
    "\n"
   ]
  },
  {
   "cell_type": "code",
   "execution_count": 8,
   "id": "f9f93de4-a20f-4bdf-8737-4ff74e3e5da3",
   "metadata": {},
   "outputs": [],
   "source": [
    "%%bash\n",
    "mkdir lorem-copy"
   ]
  },
  {
   "cell_type": "code",
   "execution_count": 11,
   "id": "1a475ff3-307b-48d9-9cd6-298c96460804",
   "metadata": {},
   "outputs": [],
   "source": [
    "%%bash\n",
    "cp lorem/sed.txt lorem-copy/"
   ]
  },
  {
   "cell_type": "markdown",
   "id": "29010e0a-fa91-4856-b093-2d4e10a1f5d9",
   "metadata": {},
   "source": [
    "Muestra el contenido del archivo sed.txt dentro de la carpeta lorem.\r\n",
    "\r\n"
   ]
  },
  {
   "cell_type": "code",
   "execution_count": 13,
   "id": "fa57dc35-de3e-4610-b801-dd237117143d",
   "metadata": {},
   "outputs": [
    {
     "name": "stdout",
     "output_type": "stream",
     "text": [
      "Sed ut perspiciatis unde omnis iste natus error sit voluptatem accusantium doloremque laudantium, \n",
      "totam rem aperiam, eaque ipsa quae ab illo inventore veritatis et quasi architecto beatae vitae dicta sunt explicabo. \n",
      "Nemo enim ipsam voluptatem quia voluptas sit aspernatur aut odit aut fugit, \n",
      "sed quia consequuntur magni dolores eos qui ratione voluptatem sequi nesciunt. \n",
      "Neque porro quisquam est, qui dolorem ipsum quia dolor sit amet, consectetur, adipisci velit, \n",
      "sed quia non numquam eius modi tempora incidunt ut labore et dolore magnam aliquam quaerat voluptatem. \n",
      "Ut enim ad minima veniam, quis nostrum exercitationem ullam corporis suscipit laboriosam, \n",
      "nisi ut aliquid ex ea commodi consequatur? Quis autem vel eum iure reprehenderit qui in ea voluptate velit esse quam nihil molestiae consequatur, \n",
      "vel illum qui dolorem eum fugiat quo voluptas nulla pariatur?"
     ]
    }
   ],
   "source": [
    "%%bash\n",
    "cat lorem/sed.txt"
   ]
  },
  {
   "cell_type": "markdown",
   "id": "3a269f52-516d-412e-a6ca-c5235ed45e2e",
   "metadata": {},
   "source": [
    "Muestra el contenido de los archivos at.txt y lorem.txt dentro de la carpeta lorem. la carpeta lorem."
   ]
  },
  {
   "cell_type": "code",
   "execution_count": 16,
   "id": "6f77b475-8355-4ab9-9306-b61cefeb4cb4",
   "metadata": {},
   "outputs": [
    {
     "name": "stdout",
     "output_type": "stream",
     "text": [
      "At vero eos et accusamus et iusto odio dignissimos ducimus qui blanditiis praesentium voluptatum \n",
      "deleniti atque corrupti quos dolores et quas molestias excepturi sint occaecati cupiditate non \n",
      "provident, similique sunt in culpa qui officia deserunt mollitia animi, id est laborum et dolorum fuga. \n",
      "Et harum quidem rerum facilis est et expedita distinctio. \n",
      "Nam libero tempore, cum soluta nobis est eligendi optio cumque nihil impedit quo minus id quod \n",
      "maxime placeat facere possimus, omnis voluptas assumenda est, omnis dolor repellendus. \n",
      "Temporibus autem quibusdam et aut officiis debitis aut rerum necessitatibus saepe eveniet \n",
      "ut et voluptates repudiandae sint et molestiae non recusandae. \n",
      "Itaque earum rerum hic tenetur a sapiente delectus, ut aut reiciendis voluptatibus maiores \n",
      "alias consequatur aut perferendis doloribus asperiores repellat"
     ]
    }
   ],
   "source": [
    "%%bash\n",
    "cat lorem/at.txt"
   ]
  },
  {
   "cell_type": "code",
   "execution_count": 17,
   "id": "851275a7-6698-4a09-a670-4d857d372cd4",
   "metadata": {},
   "outputs": [
    {
     "name": "stdout",
     "output_type": "stream",
     "text": [
      "Lorem ipsum dolor sit amet, consectetur adipiscing elit, sed do eiusmod tempor incididunt ut labore et dolore magna aliqua. \n",
      "Ut enim ad minim veniam, quis nostrud exercitation ullamco laboris nisi ut aliquip ex ea commodo consequat. \n",
      "Duis aute irure dolor in reprehenderit in voluptate velit esse cillum dolore eu fugiat nulla pariatur. \n",
      "Excepteur sint occaecat cupidatat non proident, sunt in culpa qui officia deserunt mollit anim id est laborum."
     ]
    }
   ],
   "source": [
    "%%bash\n",
    "cat lorem/lorem.txt"
   ]
  },
  {
   "cell_type": "markdown",
   "id": "f0a01d7a-962e-4afa-99c3-ec141aefd9da",
   "metadata": {},
   "source": [
    "Visualiza las primeras 3 líneas del archivo sed.txt dentro de la carpeta lorem-copya carpeta lorem."
   ]
  },
  {
   "cell_type": "code",
   "execution_count": 18,
   "id": "283fa9dd-af8e-4d02-bb3e-8be239d548d0",
   "metadata": {},
   "outputs": [
    {
     "name": "stdout",
     "output_type": "stream",
     "text": [
      "Sed ut perspiciatis unde omnis iste natus error sit voluptatem accusantium doloremque laudantium, \n",
      "totam rem aperiam, eaque ipsa quae ab illo inventore veritatis et quasi architecto beatae vitae dicta sunt explicabo. \n",
      "Nemo enim ipsam voluptatem quia voluptas sit aspernatur aut odit aut fugit, \n"
     ]
    }
   ],
   "source": [
    "%%bash\n",
    "\n",
    "head -3 lorem-copy/sed.txt"
   ]
  },
  {
   "cell_type": "markdown",
   "id": "fd8c3945-13d9-4de2-a638-22d2843aa8ff",
   "metadata": {},
   "source": [
    "Añade Homo homini lupus. al final de archivo sed.txt dentro de la carpeta lorem-copy."
   ]
  },
  {
   "cell_type": "code",
   "execution_count": 19,
   "id": "d1ba08e9-0385-4486-93a4-659fdd74f68e",
   "metadata": {},
   "outputs": [],
   "source": [
    "%%bash \n",
    "echo \"Homo homini lupus\" >> lorem-copy/sed.txt"
   ]
  },
  {
   "cell_type": "markdown",
   "id": "c6d18242-e184-452a-ab5a-67668f0a7210",
   "metadata": {},
   "source": [
    "Visualiza las últimas 3 líneas del archivo sed.txt dentro de la carpeta lorem-copy. Deberías ver ahora Homo homini lupus.."
   ]
  },
  {
   "cell_type": "code",
   "execution_count": 20,
   "id": "8cdaeeea-cbd6-481d-b162-7dbd62734826",
   "metadata": {},
   "outputs": [
    {
     "name": "stdout",
     "output_type": "stream",
     "text": [
      "Ut enim ad minima veniam, quis nostrum exercitationem ullam corporis suscipit laboriosam, \n",
      "nisi ut aliquid ex ea commodi consequatur? Quis autem vel eum iure reprehenderit qui in ea voluptate velit esse quam nihil molestiae consequatur, \n",
      "vel illum qui dolorem eum fugiat quo voluptas nulla pariatur?Homo homini lupus\n"
     ]
    }
   ],
   "source": [
    "%%bash\n",
    "\n",
    "tail -3 lorem-copy/sed.txt"
   ]
  },
  {
   "cell_type": "markdown",
   "id": "64610322-9141-4994-be3e-7e30037b7902",
   "metadata": {},
   "source": [
    "Encuentra al usuario activo en el sistema."
   ]
  },
  {
   "cell_type": "code",
   "execution_count": 21,
   "id": "b26a7d91-f110-47d3-835b-771d5ae6bc26",
   "metadata": {},
   "outputs": [
    {
     "name": "stdout",
     "output_type": "stream",
     "text": [
      "borja\n"
     ]
    }
   ],
   "source": [
    "%%bash\n",
    "whoami"
   ]
  },
  {
   "cell_type": "markdown",
   "id": "f5c48000-2e3d-4301-b092-f9c452342501",
   "metadata": {},
   "source": [
    "Lista los archivos que terminan por .txt en la carpeta lorem."
   ]
  },
  {
   "cell_type": "code",
   "execution_count": 26,
   "id": "40e804ce-7444-42e0-8f08-40b5b9a97346",
   "metadata": {},
   "outputs": [
    {
     "name": "stdout",
     "output_type": "stream",
     "text": [
      "./lorem/at.txt\n",
      "./lorem/lorem.txt\n",
      "./lorem/sed.txt\n",
      "./lorem-copy/sed.txt\n"
     ]
    }
   ],
   "source": [
    "%%bash\n",
    "\n",
    "find -type f -name \"*.txt\""
   ]
  },
  {
   "cell_type": "markdown",
   "id": "a779b87f-8e2b-4981-9197-0b6cb371507c",
   "metadata": {},
   "source": [
    "Cuenta el número de líneas que tiene el archivo sed.txt dentro de la carpeta lorem."
   ]
  },
  {
   "cell_type": "code",
   "execution_count": 34,
   "id": "c17c3eba-9122-44bc-befa-f17beb212f4a",
   "metadata": {},
   "outputs": [
    {
     "name": "stdout",
     "output_type": "stream",
     "text": [
      "8 lorem/sed.txt\n"
     ]
    }
   ],
   "source": [
    "%%bash\n",
    "wc -l lorem/sed.txt"
   ]
  },
  {
   "cell_type": "markdown",
   "id": "ac4dbd9b-8ba5-45e0-9d6d-a03e9b1a5262",
   "metadata": {},
   "source": [
    "Cuenta el número de archivos que empiezan por lorem que están en este directorio y en directorios internos."
   ]
  },
  {
   "cell_type": "code",
   "execution_count": 42,
   "id": "b90455eb-ef26-4d95-aa22-408ddad1dee9",
   "metadata": {},
   "outputs": [
    {
     "name": "stdout",
     "output_type": "stream",
     "text": [
      "1\n"
     ]
    }
   ],
   "source": [
    "%%bash\n",
    "\n",
    "find . -type f -name \"lorem*\" | wc -l"
   ]
  },
  {
   "cell_type": "markdown",
   "id": "8a9c85e9-34ea-47ba-a81a-d0fee89217d7",
   "metadata": {},
   "source": [
    "Cuenta el número de apariciones del string et en at.txt dentro de la carpeta lorem.\n",
    "\r\n"
   ]
  },
  {
   "cell_type": "code",
   "execution_count": 44,
   "id": "d08e1921-a7b6-4cab-abba-2e4fbd5375c7",
   "metadata": {},
   "outputs": [
    {
     "name": "stdout",
     "output_type": "stream",
     "text": [
      "10\n"
     ]
    }
   ],
   "source": [
    "%%bash\n",
    "grep -o 'et' lorem/at.txt | wc -l"
   ]
  },
  {
   "cell_type": "code",
   "execution_count": 46,
   "id": "c573061a-e056-4298-9e74-138411ac3407",
   "metadata": {},
   "outputs": [],
   "source": [
    "%%bash\n",
    "touch list_files.sh"
   ]
  },
  {
   "cell_type": "code",
   "execution_count": 48,
   "id": "ce3c1266-d9d9-4647-b25e-402f1ecbc5a1",
   "metadata": {},
   "outputs": [],
   "source": [
    "%%bash\n",
    "\n",
    "echo \"ls\" >> list_files.sh"
   ]
  },
  {
   "cell_type": "code",
   "execution_count": 51,
   "id": "ce9d248f-8ce1-4e51-9df5-50a5cf805ea3",
   "metadata": {},
   "outputs": [
    {
     "name": "stdout",
     "output_type": "stream",
     "text": [
      "README.md\n",
      "list_files.sh\n",
      "lorem\n",
      "lorem-copy\n",
      "solutions.ipynb\n"
     ]
    }
   ],
   "source": [
    "%%bash\n",
    "\n",
    "bash list_files.sh\n"
   ]
  }
 ],
 "metadata": {
  "kernelspec": {
   "display_name": "Python 3 (ipykernel)",
   "language": "python",
   "name": "python3"
  },
  "language_info": {
   "codemirror_mode": {
    "name": "ipython",
    "version": 3
   },
   "file_extension": ".py",
   "mimetype": "text/x-python",
   "name": "python",
   "nbconvert_exporter": "python",
   "pygments_lexer": "ipython3",
   "version": "3.10.1"
  }
 },
 "nbformat": 4,
 "nbformat_minor": 5
}
