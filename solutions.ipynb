{
 "cells": [
  {
   "cell_type": "markdown",
   "id": "45550c94",
   "metadata": {},
   "source": [
    "# Lab Bash"
   ]
  },
  {
   "cell_type": "markdown",
   "id": "4f88aaec",
   "metadata": {},
   "source": [
    "Imprimir \"Hello World\" en la consola"
   ]
  },
  {
   "cell_type": "raw",
   "id": "0dda937e",
   "metadata": {},
   "source": [
    "echo 'Hello World'"
   ]
  },
  {
   "cell_type": "markdown",
   "id": "56f17400",
   "metadata": {},
   "source": [
    "Crear un directorio llamado \"new_dir\""
   ]
  },
  {
   "cell_type": "raw",
   "id": "1352f5fe",
   "metadata": {},
   "source": [
    "mdkir new_dir"
   ]
  },
  {
   "cell_type": "markdown",
   "id": "25d1ed28",
   "metadata": {},
   "source": [
    "Eliminar ese directorio"
   ]
  },
  {
   "cell_type": "raw",
   "id": "bc5ad142",
   "metadata": {},
   "source": [
    "rm -r new_dir"
   ]
  },
  {
   "cell_type": "markdown",
   "id": "f53472d5",
   "metadata": {},
   "source": [
    "Copia el archivo sed.txt dentro de la carpeta lorem a la carpeta lorem-copy. TIP: Puede ser necesario crear la carpeta lorem-copy primero."
   ]
  },
  {
   "cell_type": "raw",
   "id": "7d68c3ad",
   "metadata": {},
   "source": [
    "mkdir lorem-copy\n",
    "cp ./lorem/sed.txt ./lorem-copy"
   ]
  },
  {
   "cell_type": "markdown",
   "id": "d29701b0",
   "metadata": {},
   "source": [
    "Muestra el contenido del archivo sed.txt dentro de la carpeta lorem."
   ]
  },
  {
   "cell_type": "raw",
   "id": "02775849",
   "metadata": {},
   "source": [
    "cat ./lorem/sed.txt"
   ]
  },
  {
   "cell_type": "markdown",
   "id": "38d911ec",
   "metadata": {},
   "source": [
    "Muestra el contenido de los archivos at.txt y lorem.txt dentro de la carpeta lorem."
   ]
  },
  {
   "cell_type": "raw",
   "id": "cb591b90",
   "metadata": {},
   "source": [
    "cat ./lorem/at.txt\n",
    "cat ./lorem/lorem.txt"
   ]
  },
  {
   "cell_type": "markdown",
   "id": "5cf7c2ad",
   "metadata": {},
   "source": [
    "Visualiza las primeras 3 líneas del archivo sed.txt dentro de la carpeta lorem-copy"
   ]
  },
  {
   "cell_type": "raw",
   "id": "263304ea",
   "metadata": {},
   "source": [
    "head -3 ./lorem/sed.txt"
   ]
  },
  {
   "cell_type": "markdown",
   "id": "576630e1",
   "metadata": {},
   "source": [
    "Añade Homo homini lupus. al final de archivo sed.txt dentro de la carpeta lorem-copy."
   ]
  },
  {
   "cell_type": "raw",
   "id": "300ea82f",
   "metadata": {},
   "source": [
    "echo \"Homo homini lupus.\" >> ./lorem/sed.txt"
   ]
  },
  {
   "cell_type": "markdown",
   "id": "08018f74",
   "metadata": {},
   "source": [
    "Visualiza las últimas 3 líneas del archivo sed.txt dentro de la carpeta lorem-copy. Deberías ver ahora Homo homini lupus.."
   ]
  },
  {
   "cell_type": "raw",
   "id": "1d0d674a",
   "metadata": {},
   "source": [
    "tail -3 ./lorem/sed.txt"
   ]
  },
  {
   "cell_type": "markdown",
   "id": "770a28b0",
   "metadata": {},
   "source": [
    "Encuentra al usuario activo en el sistema."
   ]
  },
  {
   "cell_type": "raw",
   "id": "77dd29d8",
   "metadata": {},
   "source": [
    "whoami"
   ]
  },
  {
   "cell_type": "markdown",
   "id": "565495cc",
   "metadata": {},
   "source": [
    "Lista los archivos que terminan por .txt en la carpeta lorem"
   ]
  },
  {
   "cell_type": "raw",
   "id": "005096da",
   "metadata": {},
   "source": [
    "cd ./Lorem\n",
    "ls \"*.txt\""
   ]
  },
  {
   "cell_type": "markdown",
   "id": "d2713ade",
   "metadata": {},
   "source": [
    "Encuentra dónde estás en tu sistema de ficheros."
   ]
  },
  {
   "cell_type": "raw",
   "id": "83a853fd",
   "metadata": {},
   "source": [
    "pwd"
   ]
  },
  {
   "cell_type": "markdown",
   "id": "301797a0",
   "metadata": {},
   "source": [
    "Cuenta el número de líneas que tiene el archivo sed.txt dentro de la carpeta lorem."
   ]
  },
  {
   "cell_type": "raw",
   "id": "cb5f25b4",
   "metadata": {},
   "source": [
    "wc sed.txt"
   ]
  },
  {
   "cell_type": "code",
   "execution_count": null,
   "id": "830ec7a1",
   "metadata": {},
   "outputs": [],
   "source": []
  }
 ],
 "metadata": {
  "kernelspec": {
   "display_name": "Python 3 (ipykernel)",
   "language": "python",
   "name": "python3"
  },
  "language_info": {
   "codemirror_mode": {
    "name": "ipython",
    "version": 3
   },
   "file_extension": ".py",
   "mimetype": "text/x-python",
   "name": "python",
   "nbconvert_exporter": "python",
   "pygments_lexer": "ipython3",
   "version": "3.11.4"
  }
 },
 "nbformat": 4,
 "nbformat_minor": 5
}
