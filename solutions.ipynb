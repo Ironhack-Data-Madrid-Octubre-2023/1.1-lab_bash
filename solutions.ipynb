{
 "cells": [
  {
   "cell_type": "markdown",
   "id": "5aed5d37",
   "metadata": {},
   "source": [
    "# Imprime en consola Hello World.\n"
   ]
  },
  {
   "cell_type": "markdown",
   "id": "27836301",
   "metadata": {},
   "source": [
    "echo Hello world\n"
   ]
  },
  {
   "cell_type": "markdown",
   "id": "a214b445",
   "metadata": {},
   "source": [
    "# Crea un directorio nuevo llamado new_dir"
   ]
  },
  {
   "cell_type": "markdown",
   "id": "fa9d5864",
   "metadata": {},
   "source": [
    "mkdir new_dir"
   ]
  },
  {
   "cell_type": "markdown",
   "id": "9f1ddf2a",
   "metadata": {},
   "source": [
    "# Elimina ese directorio."
   ]
  },
  {
   "cell_type": "markdown",
   "id": "079694db",
   "metadata": {},
   "source": [
    "rm -r new_dir"
   ]
  },
  {
   "cell_type": "markdown",
   "id": "63987798",
   "metadata": {},
   "source": [
    "# Copia el archivo sed.txt dentro de la carpeta lorem a la carpeta lorem-copy. TIP: Puede ser necesario crear la carpeta lorem-copy primero."
   ]
  },
  {
   "cell_type": "markdown",
   "id": "63cac777",
   "metadata": {},
   "source": [
    "mkdir lorem-copy \n",
    "\n",
    "cd lorem\n",
    "\n",
    "cp sed.txt \\Users\\daarr\\desktop\\ironhack\\1.1-lab_bash\\lorem-copy"
   ]
  },
  {
   "cell_type": "markdown",
   "id": "40cac96b",
   "metadata": {},
   "source": [
    "# Muestra el contenido del archivo sed.txt dentro de la carpeta lorem."
   ]
  },
  {
   "cell_type": "markdown",
   "id": "596ad8fc",
   "metadata": {},
   "source": [
    "cat sed.txt"
   ]
  },
  {
   "cell_type": "markdown",
   "id": "361f3cac",
   "metadata": {},
   "source": [
    "# Muestra el contenido de los archivos at.txt y lorem.txt dentro de la carpeta lorem"
   ]
  },
  {
   "cell_type": "markdown",
   "id": "224a530b",
   "metadata": {},
   "source": [
    "cat at.txt\n",
    "\n",
    "cat lorem.txt"
   ]
  },
  {
   "cell_type": "markdown",
   "id": "b7a47d0f",
   "metadata": {},
   "source": [
    "# Visualiza las primeras 3 líneas del archivo sed.txt dentro de la carpeta lorem-copy"
   ]
  },
  {
   "cell_type": "markdown",
   "id": "c5b505e1",
   "metadata": {},
   "source": [
    "cd ..\n",
    "\n",
    "cd lorem-copy\n",
    "\n",
    "gc sed.txt | select -first 3"
   ]
  },
  {
   "cell_type": "markdown",
   "id": "514571b2",
   "metadata": {},
   "source": [
    "# Añade Homo homini lupus. al final de archivo sed.txt dentro de la carpeta lorem-copy.\n",
    "\n"
   ]
  },
  {
   "cell_type": "markdown",
   "id": "e5b6bce6",
   "metadata": {},
   "source": [
    "echo \"Homo homini lupus.\" >> sed.txt"
   ]
  },
  {
   "cell_type": "markdown",
   "id": "c1488ae6",
   "metadata": {},
   "source": [
    "# Visualiza las últimas 3 líneas del archivo sed.txt dentro de la carpeta lorem-copy. Deberías ver ahora Homo homini lupus."
   ]
  },
  {
   "cell_type": "markdown",
   "id": "f3843663",
   "metadata": {},
   "source": [
    "gc -Tail 3 sed.txt"
   ]
  },
  {
   "cell_type": "markdown",
   "id": "ea58f4c5",
   "metadata": {},
   "source": [
    "# Encuentra al usuario activo en el sistema."
   ]
  },
  {
   "cell_type": "markdown",
   "id": "d09eefa7",
   "metadata": {},
   "source": [
    "whoami"
   ]
  },
  {
   "cell_type": "markdown",
   "id": "668a87be",
   "metadata": {},
   "source": [
    "# Encuentra dónde estás en tu sistema de ficheros."
   ]
  },
  {
   "cell_type": "markdown",
   "id": "150e8109",
   "metadata": {},
   "source": [
    "pwd"
   ]
  },
  {
   "cell_type": "markdown",
   "id": "da6ce33a",
   "metadata": {},
   "source": [
    "# Lista los archivos que terminan por .txt en la carpeta lorem."
   ]
  },
  {
   "cell_type": "markdown",
   "id": "2006e674",
   "metadata": {},
   "source": [
    "cd ..\n",
    "\n",
    "cd lorem\n",
    "\n",
    "ls *txt"
   ]
  },
  {
   "cell_type": "markdown",
   "id": "91381412",
   "metadata": {},
   "source": [
    "# Cuenta el número de líneas que tiene el archivo sed.txt dentro de la carpeta lorem."
   ]
  },
  {
   "cell_type": "markdown",
   "id": "6f0f9d2e",
   "metadata": {},
   "source": [
    "wc -l sed.txt"
   ]
  },
  {
   "cell_type": "markdown",
   "id": "95a27670",
   "metadata": {},
   "source": [
    "# Cuenta el número de archivos que empiezan por lorem que están en este directorio y en directorios internos."
   ]
  },
  {
   "cell_type": "markdown",
   "id": "803ef4c0",
   "metadata": {},
   "source": [
    "find -type f -name \"lorem*\" | wc -l\n",
    "\n"
   ]
  },
  {
   "cell_type": "markdown",
   "id": "ae0b333f",
   "metadata": {},
   "source": [
    "# Cuenta el número de apariciones del string et en at.txt dentro de la carpeta lorem"
   ]
  },
  {
   "cell_type": "markdown",
   "id": "4ca44412",
   "metadata": {},
   "source": [
    "grep -o et at.txt | wc -l    (CASE SENSITIVE)\n",
    "\n",
    "grep -o -i et at.txt | wc -l  (CASE INSENSITIVE)\n",
    "\n"
   ]
  },
  {
   "cell_type": "code",
   "execution_count": null,
   "id": "a7a8eea2",
   "metadata": {},
   "outputs": [],
   "source": []
  }
 ],
 "metadata": {
  "kernelspec": {
   "display_name": "Python 3 (ipykernel)",
   "language": "python",
   "name": "python3"
  },
  "language_info": {
   "codemirror_mode": {
    "name": "ipython",
    "version": 3
   },
   "file_extension": ".py",
   "mimetype": "text/x-python",
   "name": "python",
   "nbconvert_exporter": "python",
   "pygments_lexer": "ipython3",
   "version": "3.11.4"
  }
 },
 "nbformat": 4,
 "nbformat_minor": 5
}
