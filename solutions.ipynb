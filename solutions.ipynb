{
 "cells": [
  {
   "cell_type": "code",
   "execution_count": null,
   "id": "9821b89b",
   "metadata": {},
   "outputs": [],
   "source": [
    "1) Imprime en consola Hello World"
   ]
  },
  {
   "cell_type": "code",
   "execution_count": null,
   "id": "f0741cc4",
   "metadata": {},
   "outputs": [],
   "source": [
    "echo 'Hello World'"
   ]
  },
  {
   "cell_type": "code",
   "execution_count": null,
   "id": "3ad17dfc",
   "metadata": {},
   "outputs": [],
   "source": [
    "2) Crea un directorio nuevo llamado new_dir"
   ]
  },
  {
   "cell_type": "markdown",
   "id": "54205bf6",
   "metadata": {},
   "source": [
    "mkdir new_dir "
   ]
  },
  {
   "cell_type": "code",
   "execution_count": null,
   "id": "ff8ad196",
   "metadata": {},
   "outputs": [],
   "source": [
    "3) Elimina ese directorio"
   ]
  },
  {
   "cell_type": "code",
   "execution_count": null,
   "id": "5e16600f",
   "metadata": {},
   "outputs": [],
   "source": [
    "rm -r new_dir"
   ]
  },
  {
   "cell_type": "code",
   "execution_count": null,
   "id": "3e96c627",
   "metadata": {},
   "outputs": [],
   "source": [
    "4) Copia el archivo sed.txt dentro de la carpeta lorem a la carpeta lorem-copy. TIP: Puede ser necesario crear la carpeta lorem-copy primero."
   ]
  },
  {
   "cell_type": "code",
   "execution_count": null,
   "id": "37487b51",
   "metadata": {},
   "outputs": [],
   "source": [
    "#creo la nueva carpeta\n",
    "mkdir lorem-copy \n",
    "\n",
    "#entro en la carpeta lorem usando cd \n",
    "\n",
    "#copio el archivo\n",
    "cp sed.txt /Users/criscarneiro/desktop/ironhack/1.1-lab_bash/lorem-copy"
   ]
  },
  {
   "cell_type": "code",
   "execution_count": null,
   "id": "61d58b19",
   "metadata": {},
   "outputs": [],
   "source": [
    "5) Muestra el contenido del archivo sed.txt dentro de la carpeta lorem"
   ]
  },
  {
   "cell_type": "code",
   "execution_count": null,
   "id": "f5a5c6d1",
   "metadata": {},
   "outputs": [],
   "source": [
    "#entro a la carpeta lorem usando cd\n",
    "\n",
    "#uso cat \n",
    "cat sed.txt "
   ]
  },
  {
   "cell_type": "markdown",
   "id": "b1562025",
   "metadata": {},
   "source": [
    "6) Muestra el contenido de los archivos at.txt y lorem.txt dentro de la carpeta lorem"
   ]
  },
  {
   "cell_type": "code",
   "execution_count": null,
   "id": "cfdc41d0",
   "metadata": {},
   "outputs": [],
   "source": [
    "#entro a la carpeta lorem usando cd \n",
    "#para verlos de una vez \n",
    "cat at.txt lorem.txt"
   ]
  },
  {
   "cell_type": "code",
   "execution_count": null,
   "id": "37c9710f",
   "metadata": {},
   "outputs": [],
   "source": [
    "7) Visualiza las primeras 3 líneas del archivo sed.txt dentro de la carpeta lorem-copy"
   ]
  },
  {
   "cell_type": "code",
   "execution_count": null,
   "id": "03b1fda1",
   "metadata": {},
   "outputs": [],
   "source": [
    "#entro a la carpeta lorem-copy usando cd \n",
    "#uso el comando\n",
    "head -3 sed.txt"
   ]
  },
  {
   "cell_type": "code",
   "execution_count": null,
   "id": "e7a8e53a",
   "metadata": {},
   "outputs": [],
   "source": [
    "8) Añade Homo homini lupus. al final de archivo sed.txt dentro de la carpeta lorem-copy."
   ]
  },
  {
   "cell_type": "code",
   "execution_count": null,
   "id": "a0be2ce6",
   "metadata": {},
   "outputs": [],
   "source": [
    "#entro a la carpeta lorem-copy usando cd \n",
    "#uso el codigo \n",
    "echo ' Homo homini lupus.' >> sed.txt"
   ]
  },
  {
   "cell_type": "code",
   "execution_count": null,
   "id": "d18769c2",
   "metadata": {},
   "outputs": [],
   "source": [
    "9) Visualiza las últimas 3 líneas del archivo sed.txt dentro de la carpeta lorem-copy. Deberías ver ahora Homo homini lupus."
   ]
  },
  {
   "cell_type": "code",
   "execution_count": null,
   "id": "81c2e5cf",
   "metadata": {},
   "outputs": [],
   "source": [
    "#entro a la carpeta lorem-copy usando cd \n",
    "#uso el codigo \n",
    "tail -3 sed.txt"
   ]
  },
  {
   "cell_type": "markdown",
   "id": "0c73729e",
   "metadata": {},
   "source": [
    "10) Encuentra al usuario activo en el sistema"
   ]
  },
  {
   "cell_type": "code",
   "execution_count": null,
   "id": "290cb96c",
   "metadata": {},
   "outputs": [],
   "source": [
    "whoami"
   ]
  },
  {
   "cell_type": "code",
   "execution_count": null,
   "id": "d934fb83",
   "metadata": {},
   "outputs": [],
   "source": [
    "11) Encuentra dónde estás en tu sistema de ficheros"
   ]
  },
  {
   "cell_type": "code",
   "execution_count": null,
   "id": "a0b9492b",
   "metadata": {},
   "outputs": [],
   "source": [
    "pwd"
   ]
  },
  {
   "cell_type": "markdown",
   "id": "1b758bb3",
   "metadata": {},
   "source": [
    "12) Lista los archivos que terminan por .txt en la carpeta lorem"
   ]
  },
  {
   "cell_type": "code",
   "execution_count": null,
   "id": "fed43636",
   "metadata": {},
   "outputs": [],
   "source": [
    "#entro a la carpeta lorem usando cd \n",
    "#uso el codigo\n",
    "find . -name \"*.txt\""
   ]
  },
  {
   "cell_type": "code",
   "execution_count": null,
   "id": "54389ad1",
   "metadata": {},
   "outputs": [],
   "source": [
    "13) Cuenta el número de líneas que tiene el archivo sed.txt dentro de la carpeta lorem."
   ]
  },
  {
   "cell_type": "code",
   "execution_count": null,
   "id": "a82e873e",
   "metadata": {},
   "outputs": [],
   "source": [
    "#entro a la carpeta lorem usando cd\n",
    "#uso el codigo \n",
    "wc -l sed.txt"
   ]
  },
  {
   "cell_type": "markdown",
   "id": "a008ffb3",
   "metadata": {},
   "source": [
    "14) Cuenta el número de archivos que empiezan por lorem que están en este directorio y en directorios internos"
   ]
  }
 ],
 "metadata": {
  "kernelspec": {
   "display_name": "clase",
   "language": "python",
   "name": "clase"
  },
  "language_info": {
   "codemirror_mode": {
    "name": "ipython",
    "version": 3
   },
   "file_extension": ".py",
   "mimetype": "text/x-python",
   "name": "python",
   "nbconvert_exporter": "python",
   "pygments_lexer": "ipython3",
   "version": "3.10.13"
  }
 },
 "nbformat": 4,
 "nbformat_minor": 5
}
